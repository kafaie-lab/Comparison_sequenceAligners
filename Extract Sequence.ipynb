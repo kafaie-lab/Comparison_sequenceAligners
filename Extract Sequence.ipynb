{
 "cells": [
  {
   "cell_type": "markdown",
   "id": "3b139ea6",
   "metadata": {},
   "source": [
    "## This Script is used to get the unique sequences from GraphAligner and measure the edit distance between the sequences from Bandage and GraphAligner"
   ]
  },
  {
   "cell_type": "code",
   "execution_count": 1,
   "id": "a9fcfbc4",
   "metadata": {},
   "outputs": [],
   "source": [
    "# import the libraries\n",
    "import numpy as np\n",
    "import pandas as pd\n",
    "import re \n",
    "from Bio import SeqIO\n",
    "from collections import defaultdict\n",
    "import gfapy"
   ]
  },
  {
   "cell_type": "code",
   "execution_count": 2,
   "id": "a763c00b",
   "metadata": {},
   "outputs": [],
   "source": [
    "# Open the GFA file\n",
    "file_path = \"Real.gfa\"\n",
    "gfa = gfapy.Gfa.from_file(file_path)\n",
    "\n",
    "num_segments = len(gfa.segments)"
   ]
  },
  {
   "cell_type": "code",
   "execution_count": null,
   "id": "f9815da9",
   "metadata": {},
   "outputs": [],
   "source": [
    "data_graph = []"
   ]
  },
  {
   "cell_type": "code",
   "execution_count": null,
   "id": "9b3bfa6c",
   "metadata": {
    "scrolled": true
   },
   "outputs": [],
   "source": [
    "# Store the name and sequence for each node from the graph\n",
    "for segment in gfa.segments:\n",
    "    data_graph.append({\"Name\": segment.name, \"Sequence\": segment.sequence})\n",
    "\n",
    "# Convert the list to a DataFrame\n",
    "df_graph = pd.DataFrame(data_graph)\n",
    "\n",
    "# Print the DataFrame\n",
    "print(df_graph)"
   ]
  },
  {
   "cell_type": "code",
   "execution_count": null,
   "id": "b4e2d527",
   "metadata": {},
   "outputs": [],
   "source": [
    "df_graph['Sequence']"
   ]
  },
  {
   "cell_type": "code",
   "execution_count": null,
   "id": "a6c12e7d",
   "metadata": {},
   "outputs": [],
   "source": [
    "#Save only one copy of each row to the dataframe\n",
    "df_graph=df_graph.drop_duplicates()"
   ]
  },
  {
   "cell_type": "code",
   "execution_count": null,
   "id": "de1210ab",
   "metadata": {
    "scrolled": true
   },
   "outputs": [],
   "source": [
    "df_graph"
   ]
  },
  {
   "cell_type": "code",
   "execution_count": null,
   "id": "237018cb",
   "metadata": {
    "scrolled": true
   },
   "outputs": [],
   "source": [
    "df_GraphAligner_Paths=pd.read_csv('Real_Results/SequenceBandageSPAlignerGraphAlignerReal.tsv', sep='\\t')"
   ]
  },
  {
   "cell_type": "code",
   "execution_count": null,
   "id": "9cf8cdbd",
   "metadata": {},
   "outputs": [],
   "source": [
    "df_GraphAligner_Paths"
   ]
  },
  {
   "cell_type": "code",
   "execution_count": null,
   "id": "d4b202e4",
   "metadata": {
    "scrolled": true
   },
   "outputs": [],
   "source": [
    "selected_rows_BandageVSGraphAligner = df_GraphAligner_Paths[df_GraphAligner_Paths['FinalResultBandageVSGraphAligner'] != 'Full']\n",
    "selected_rows_BandageVSGraphAligner.columns"
   ]
  },
  {
   "cell_type": "code",
   "execution_count": null,
   "id": "334fd9eb",
   "metadata": {},
   "outputs": [],
   "source": [
    "df_BandageVSGraphAligner=selected_rows_BandageVSGraphAligner[['Query', 'Sequence', 'Sequence_Bandage',\n",
    "       'Start_GraphAligner', 'End_GraphAligner', 'Path_GraphAligner',\n",
    "       'FinalResultBandageVSGraphAligner']].copy()\n"
   ]
  },
  {
   "cell_type": "code",
   "execution_count": null,
   "id": "f378873f",
   "metadata": {
    "scrolled": true
   },
   "outputs": [],
   "source": [
    "df_BandageVSGraphAligner.reset_index()"
   ]
  },
  {
   "cell_type": "code",
   "execution_count": null,
   "id": "77ea5911",
   "metadata": {},
   "outputs": [],
   "source": [
    "df_BandageVSGraphAligner.to_csv('Real_Results/BandageVSGraphAlignerSequences.tsv',sep='\\t')"
   ]
  },
  {
   "cell_type": "code",
   "execution_count": null,
   "id": "ffbb5c5f",
   "metadata": {},
   "outputs": [],
   "source": [
    "df_GraphAligner_Path= pd.read_csv('Real_Results/BandageVSGraphAlignerSequences.tsv', sep='\\t')"
   ]
  },
  {
   "cell_type": "code",
   "execution_count": null,
   "id": "28397b1e",
   "metadata": {},
   "outputs": [],
   "source": [
    "df_GraphAligner_Path"
   ]
  },
  {
   "cell_type": "code",
   "execution_count": null,
   "id": "00911a75",
   "metadata": {},
   "outputs": [],
   "source": [
    "df_GraphAligner_Path[['Path1', 'Path2','Path3','Path4','Path5','Path6','Path7','Path8','Path9','Path10','Path11']] = df_GraphAligner_Path['Path_GraphAligner'].str.split(',', expand=True)"
   ]
  },
  {
   "cell_type": "code",
   "execution_count": null,
   "id": "57d156c6",
   "metadata": {
    "scrolled": true
   },
   "outputs": [],
   "source": [
    "df_GraphAligner_Path"
   ]
  },
  {
   "cell_type": "markdown",
   "id": "7250f747",
   "metadata": {},
   "source": [
    "## Get the rows that have a unique node, Path1"
   ]
  },
  {
   "cell_type": "code",
   "execution_count": null,
   "id": "7161f833",
   "metadata": {
    "scrolled": true
   },
   "outputs": [],
   "source": [
    "# Get the rows where Path 2 is  None\n",
    "Path1_Only = df_GraphAligner_Path[df_GraphAligner_Path['Path2'].isna()]\n",
    "\n",
    "# Print the resulting dataframe\n",
    "Path1_Only "
   ]
  },
  {
   "cell_type": "code",
   "execution_count": null,
   "id": "4c474495",
   "metadata": {},
   "outputs": [],
   "source": [
    "#Drop the 0 parts\n",
    "Path1_Only = Path1_Only.drop(Path1_Only[(Path1_Only['Start_GraphAligner'] == 0) & (Path1_Only['End_GraphAligner'] == 0)].index)\n"
   ]
  },
  {
   "cell_type": "code",
   "execution_count": null,
   "id": "447858cc",
   "metadata": {
    "scrolled": true
   },
   "outputs": [],
   "source": [
    "# Get the sequence where we have only Path1\n",
    "merged_df_Path1= pd.merge(Path1_Only , df_graph, left_on='Path1', right_on='Name',how='inner')\n",
    "merged_df_Path1"
   ]
  },
  {
   "cell_type": "code",
   "execution_count": null,
   "id": "689c2564",
   "metadata": {
    "scrolled": true
   },
   "outputs": [],
   "source": [
    "merged_df_Path1.dtypes"
   ]
  },
  {
   "cell_type": "code",
   "execution_count": null,
   "id": "e67e84e8",
   "metadata": {},
   "outputs": [],
   "source": [
    "merged_df_Path1['Start_GraphAligner']=merged_df_Path1['Start_GraphAligner'].astype(int)\n",
    "merged_df_Path1['End_GraphAligner']=merged_df_Path1['End_GraphAligner'].astype(int)"
   ]
  },
  {
   "cell_type": "code",
   "execution_count": null,
   "id": "30a86ad0",
   "metadata": {
    "scrolled": true
   },
   "outputs": [],
   "source": [
    "merged_df_Path1.dtypes"
   ]
  },
  {
   "cell_type": "code",
   "execution_count": null,
   "id": "dca4ea00",
   "metadata": {},
   "outputs": [],
   "source": [
    "merged_df_Path1"
   ]
  },
  {
   "cell_type": "code",
   "execution_count": null,
   "id": "9edb725d",
   "metadata": {},
   "outputs": [],
   "source": [
    "def extract_sequences_Path1(dataframe):\n",
    "    for index, row in dataframe.iterrows():\n",
    "        start_pos = row['Start_GraphAligner']\n",
    "        end_pos = row['End_GraphAligner']\n",
    "        sequence = row['Sequence_y']\n",
    "        \n",
    "        extracted_sequence = sequence[start_pos-1:end_pos]\n",
    "        dataframe.loc[index, 'Result_node1'] = extracted_sequence\n",
    "    \n",
    "    return dataframe"
   ]
  },
  {
   "cell_type": "code",
   "execution_count": null,
   "id": "c504d74a",
   "metadata": {},
   "outputs": [],
   "source": [
    "extracted_sequences_Path1_df = extract_sequences_Path1(merged_df_Path1)\n",
    "extracted_sequences_Path1_df\n",
    "#Save the dataframe to a pdf\n",
    "extracted_sequences_Path1_df.to_csv(\"111_GraphResults/Path1_TestSequences.tsv\", sep=\"\\t\")"
   ]
  },
  {
   "cell_type": "code",
   "execution_count": null,
   "id": "1b320ed0",
   "metadata": {
    "scrolled": true
   },
   "outputs": [],
   "source": [
    "extracted_sequences_Path1_df"
   ]
  },
  {
   "cell_type": "code",
   "execution_count": null,
   "id": "80f046bc",
   "metadata": {},
   "outputs": [],
   "source": [
    "import Levenshtein\n",
    "#Create a method to calculate the levenstein distance\n",
    "def calculate_edit_distance_sequence_GraphAligner(row):\n",
    "    return Levenshtein.distance(row['Sequence_x'], row['Result_node1'])"
   ]
  },
  {
   "cell_type": "code",
   "execution_count": null,
   "id": "b1472f76",
   "metadata": {},
   "outputs": [],
   "source": [
    "extracted_sequences_Path1_df['edit_distance_query_sequence_GraphAligner'] = extracted_sequences_Path1_df.apply(calculate_edit_distance_sequence_GraphAligner, axis=1)"
   ]
  },
  {
   "cell_type": "code",
   "execution_count": null,
   "id": "3c458d9b",
   "metadata": {
    "scrolled": false
   },
   "outputs": [],
   "source": [
    "extracted_sequences_Path1_df"
   ]
  },
  {
   "cell_type": "code",
   "execution_count": null,
   "id": "93081744",
   "metadata": {},
   "outputs": [],
   "source": [
    "extracted_sequences_Path1_df['sequence_length'] = extracted_sequences_Path1_df['Sequence_x'].apply(len)\n",
    "extracted_sequences_Path1_df['EditDistance_GraphAligner_Query']=1-(extracted_sequences_Path1_df['edit_distance_query_sequence_GraphAligner']/extracted_sequences_Path1_df['sequence_length'])"
   ]
  },
  {
   "cell_type": "code",
   "execution_count": null,
   "id": "787c1717",
   "metadata": {},
   "outputs": [],
   "source": [
    "extracted_sequences_Path1_df"
   ]
  },
  {
   "cell_type": "code",
   "execution_count": null,
   "id": "c5fc3cbd",
   "metadata": {},
   "outputs": [],
   "source": [
    "extracted_sequences_Path1_df.to_csv('111_GraphResults/GraphAlignerSequencesEditDistancePath1.tsv',sep='\\t')"
   ]
  },
  {
   "cell_type": "code",
   "execution_count": null,
   "id": "7f05410a",
   "metadata": {
    "scrolled": false
   },
   "outputs": [],
   "source": [
    "# Get the rows where Path 2 is not None\n",
    "df_multiple = df_GraphAligner_Path[df_GraphAligner_Path['Path2'].notna() ]\n",
    "\n",
    "# Print the resulting dataframe\n",
    "df_multiple"
   ]
  },
  {
   "cell_type": "code",
   "execution_count": null,
   "id": "f42be06d",
   "metadata": {
    "scrolled": false
   },
   "outputs": [],
   "source": [
    "merged_df_multiple_Path1= pd.merge(df_multiple, df_graph, left_on='Path1', right_on='Name')\n",
    "merged_df_multiple_Path1\n"
   ]
  },
  {
   "cell_type": "code",
   "execution_count": null,
   "id": "3dd8da5d",
   "metadata": {},
   "outputs": [],
   "source": [
    "merged_df_multiple_Path1['Path2'] = merged_df_multiple_Path1['Path2'].str.strip()\n"
   ]
  },
  {
   "cell_type": "code",
   "execution_count": null,
   "id": "17f66456",
   "metadata": {},
   "outputs": [],
   "source": [
    "merged_df_multiple_Path2=pd.merge(merged_df_multiple_Path1, df_graph,left_on='Path2', right_on='Name')\n",
    "merged_df_multiple_Path2"
   ]
  },
  {
   "cell_type": "code",
   "execution_count": null,
   "id": "6e9b121b",
   "metadata": {
    "scrolled": true
   },
   "outputs": [],
   "source": [
    "#Rename Name_X, Sequence_X, Name_y, Sequence_y\n",
    "merged_df_multiple_Path2.rename(columns = {'Sequence':'Sequence_Path1'}, inplace = True)\n",
    "merged_df_multiple_Path2.rename(columns = {'Sequence_y':'Sequence_Path2'}, inplace = True)\n",
    "merged_df_multiple_Path2"
   ]
  },
  {
   "cell_type": "code",
   "execution_count": null,
   "id": "03a66ba8",
   "metadata": {
    "scrolled": true
   },
   "outputs": [],
   "source": [
    "merged_df_multiple_Path2.dtypes"
   ]
  },
  {
   "cell_type": "code",
   "execution_count": null,
   "id": "069b40f0",
   "metadata": {
    "scrolled": true
   },
   "outputs": [],
   "source": [
    "merged_df_multiple_Path2"
   ]
  },
  {
   "cell_type": "code",
   "execution_count": null,
   "id": "c6637d5a",
   "metadata": {},
   "outputs": [],
   "source": [
    "merged_df_multiple_Path2.to_csv('merged_df_multiple_Path2.tsv',sep='\\t')"
   ]
  },
  {
   "cell_type": "code",
   "execution_count": null,
   "id": "ea94b718",
   "metadata": {},
   "outputs": [],
   "source": [
    "def extract_sequences_multiple_sequences(dataframe):\n",
    "    for index, row in dataframe.iterrows():\n",
    "        start_pos = row['Start_GraphAligner']\n",
    "        sequence_1 = row['Sequence_Path2']\n",
    "       \n",
    "        #Get the first sequence, and remove 55 kmer from it\n",
    "        extracted_sequence_first = sequence_1[start_pos-1:]\n",
    "        \n",
    "        dataframe.loc[index, 'Sequencefirst'] = extracted_sequence_first\n",
    "    \n",
    "    return dataframe"
   ]
  },
  {
   "cell_type": "code",
   "execution_count": null,
   "id": "94432d99",
   "metadata": {},
   "outputs": [],
   "source": [
    "merged_df_multiple_Path2_modified=pd.read_csv('merged_df_multiple_Path2.tsv', sep='\\t')"
   ]
  },
  {
   "cell_type": "code",
   "execution_count": null,
   "id": "9ca5804b",
   "metadata": {},
   "outputs": [],
   "source": [
    "merged_df_multiple_Path2_modified"
   ]
  },
  {
   "cell_type": "code",
   "execution_count": null,
   "id": "4542a69b",
   "metadata": {},
   "outputs": [],
   "source": [
    "merged_df_multiple_Path2_modified['Start_GraphAligner']=merged_df_multiple_Path2['Start_GraphAligner'].astype(int)\n",
    "merged_df_multiple_Path2_modified['End_GraphAligner']=merged_df_multiple_Path2['End_GraphAligner'].astype(int)"
   ]
  },
  {
   "cell_type": "code",
   "execution_count": null,
   "id": "b6555b1a",
   "metadata": {
    "scrolled": false
   },
   "outputs": [],
   "source": [
    "extracted_sequences_2 = extract_sequences_multiple_sequences(merged_df_multiple_Path2)\n",
    "extracted_sequences_2.to_csv('TestSeque.tsv',sep='\\t')\n",
    "\n",
    "extracted_sequences_2"
   ]
  },
  {
   "cell_type": "code",
   "execution_count": null,
   "id": "e3b81411",
   "metadata": {},
   "outputs": [],
   "source": [
    "def extract_sequences_multiple_sequences_path2(dataframe):\n",
    "    for index, row in dataframe.iterrows():\n",
    "        end_pos = row['End_GraphAligner']\n",
    "        sequence_2 = row['Sequence_Path1']\n",
    "       \n",
    "        #Get the first sequence, and remove 55 kmer from it\n",
    "        extracted_sequence_second = sequence_2[:end_pos]\n",
    "        \n",
    "        dataframe.loc[index, 'SequencefSecond'] = extracted_sequence_second\n",
    "    \n",
    "    return dataframe"
   ]
  },
  {
   "cell_type": "code",
   "execution_count": null,
   "id": "84e48fdc",
   "metadata": {},
   "outputs": [],
   "source": [
    "extracted_sequences_3 = extract_sequences_multiple_sequences_path2(extracted_sequences_2)\n",
    "extracted_sequences_3.to_csv('TestSeque3.tsv',sep='\\t')\n",
    "\n",
    "extracted_sequences_3"
   ]
  },
  {
   "cell_type": "code",
   "execution_count": null,
   "id": "4886a545",
   "metadata": {},
   "outputs": [],
   "source": [
    "def extract_sequences_multiple_sequences_overlap(dataframe):\n",
    "   \n",
    "    for index, row in dataframe.iterrows():\n",
    "        sequence_first = row['Sequencefirst']\n",
    "        length_end=len(sequence_first)-55\n",
    "       \n",
    "        #Get the first sequence, and the last 55 characters\n",
    "        extracted_sequence_first = sequence_first[:len(sequence_first)-55]\n",
    "        \n",
    "        dataframe.loc[index, 'length'] = len(sequence_first)\n",
    "        dataframe.loc[index, 'length_end'] = length_end\n",
    "        dataframe.loc[index, 'FinalSequence1'] = sequence_first[:length_end]\n",
    "    \n",
    "    return dataframe\n",
    "    "
   ]
  },
  {
   "cell_type": "code",
   "execution_count": null,
   "id": "cb6afa17",
   "metadata": {},
   "outputs": [],
   "source": [
    "extracted_sequences_multiple = extract_sequences_multiple_sequences_overlap(extracted_sequences_3)"
   ]
  },
  {
   "cell_type": "code",
   "execution_count": null,
   "id": "03994249",
   "metadata": {
    "scrolled": false
   },
   "outputs": [],
   "source": [
    "extracted_sequences_multiple"
   ]
  },
  {
   "cell_type": "code",
   "execution_count": null,
   "id": "6eec0c80",
   "metadata": {},
   "outputs": [],
   "source": [
    "def extract_sequences_multiple_sequences_final(dataframe):\n",
    "   \n",
    "    for index, row in dataframe.iterrows():\n",
    "        sequence_first = row['FinalSequence1']\n",
    "        sequence_second = row['SequencefSecond']\n",
    "       \n",
    "        #Get the first sequence, and the last 55 characters\n",
    "        extracted_sequence_final = sequence_first+sequence_second\n",
    "        \n",
    "      \n",
    "        dataframe.loc[index, 'FinalSequence'] = sequence_first + sequence_second\n",
    "    \n",
    "    return dataframe"
   ]
  },
  {
   "cell_type": "code",
   "execution_count": null,
   "id": "384c03b8",
   "metadata": {},
   "outputs": [],
   "source": [
    "extracted_sequences_multiple_final =extract_sequences_multiple_sequences_final(extracted_sequences_multiple)"
   ]
  },
  {
   "cell_type": "code",
   "execution_count": null,
   "id": "42454a9b",
   "metadata": {
    "scrolled": false
   },
   "outputs": [],
   "source": [
    "extracted_sequences_multiple_final"
   ]
  },
  {
   "cell_type": "code",
   "execution_count": null,
   "id": "f20e34e3",
   "metadata": {},
   "outputs": [],
   "source": [
    "import Levenshtein\n",
    "#Create a method to calculate the levenstein distance\n",
    "def calculate_edit_distance_sequence_GraphAligner_multiple(row):\n",
    "    return Levenshtein.distance(row['Sequence_x'], row['FinalSequence'])"
   ]
  },
  {
   "cell_type": "code",
   "execution_count": null,
   "id": "069e5166",
   "metadata": {
    "scrolled": true
   },
   "outputs": [],
   "source": [
    "extracted_sequences_multiple_final['edit_distance_query_sequence_GraphAligner'] =calculate_edit_distance_sequence_GraphAligner_multiple(extracted_sequences_multiple_final)"
   ]
  },
  {
   "cell_type": "code",
   "execution_count": null,
   "id": "771a349c",
   "metadata": {},
   "outputs": [],
   "source": [
    "extracted_sequences_multiple_final"
   ]
  },
  {
   "cell_type": "code",
   "execution_count": null,
   "id": "68e64ead",
   "metadata": {},
   "outputs": [],
   "source": [
    "extracted_sequences_multiple_final['sequence_length'] = extracted_sequences_multiple_final['Sequence_x'].apply(len)\n",
    "extracted_sequences_multiple_final['EditDistance_GraphAligner_Query']=1-(extracted_sequences_multiple_final['edit_distance_query_sequence_GraphAligner']/extracted_sequences_multiple_final['sequence_length'])"
   ]
  },
  {
   "cell_type": "code",
   "execution_count": null,
   "id": "f14be1a5",
   "metadata": {},
   "outputs": [],
   "source": [
    "#Drop some columns\n",
    "extracted_sequences_multiple_final=extracted_sequences_multiple_final.drop(['Path_Bandage', 'Path_GraphAligner','Equal','Name_x','Name_y'], axis=1)"
   ]
  },
  {
   "cell_type": "code",
   "execution_count": null,
   "id": "e3acd285",
   "metadata": {},
   "outputs": [],
   "source": [
    "extracted_sequences_multiple_final.rename(columns = {'Sequence_Path1':'Sequence_Path1'}, inplace = True)"
   ]
  },
  {
   "cell_type": "code",
   "execution_count": null,
   "id": "b61c6fc1",
   "metadata": {},
   "outputs": [],
   "source": [
    "extracted_sequences_multiple_final.rename(columns = {'Sequence_Path2':'Sequence_FromGraph_Path2'}, inplace = True)"
   ]
  },
  {
   "cell_type": "code",
   "execution_count": null,
   "id": "88b046e9",
   "metadata": {},
   "outputs": [],
   "source": [
    "extracted_sequences_multiple_final.rename(columns = {'Sequencefirst':'Sequence_FromGraph_Path1_No_Overlap'}, inplace = True)"
   ]
  },
  {
   "cell_type": "code",
   "execution_count": null,
   "id": "72babb37",
   "metadata": {},
   "outputs": [],
   "source": [
    "extracted_sequences_multiple_final.rename(columns = {'length':'Length_Sequence_Path1_No_Overlap'}, inplace = True)\n"
   ]
  },
  {
   "cell_type": "code",
   "execution_count": null,
   "id": "bb342933",
   "metadata": {},
   "outputs": [],
   "source": [
    "extracted_sequences_multiple_final.rename(columns = {'length_end':'Length_Sequence_Path1_With_Overlap'}, inplace = True)"
   ]
  },
  {
   "cell_type": "code",
   "execution_count": null,
   "id": "359b52a7",
   "metadata": {},
   "outputs": [],
   "source": [
    "extracted_sequences_multiple_final.rename(columns = {'FinalSequence1':'Sequence_Path1_With_Overlap'}, inplace = True)"
   ]
  },
  {
   "cell_type": "code",
   "execution_count": null,
   "id": "93e208df",
   "metadata": {},
   "outputs": [],
   "source": [
    "extracted_sequences_multiple_final.rename(columns = {'FinalSequence':'Concatenated_Sequence'}, inplace = True)"
   ]
  },
  {
   "cell_type": "code",
   "execution_count": null,
   "id": "c76914bb",
   "metadata": {},
   "outputs": [],
   "source": [
    "extracted_sequences_multiple_final.to_csv(\"111_GraphResults/MultiplePath_TestSequences.tsv\",sep='\\t')"
   ]
  },
  {
   "cell_type": "markdown",
   "id": "a7f669bc",
   "metadata": {},
   "source": [
    "## This section measures the edit distance between the sequences "
   ]
  },
  {
   "cell_type": "code",
   "execution_count": null,
   "id": "2834b06f",
   "metadata": {},
   "outputs": [],
   "source": [
    "import Levenshtein"
   ]
  },
  {
   "cell_type": "code",
   "execution_count": null,
   "id": "6ea176c8",
   "metadata": {},
   "outputs": [],
   "source": [
    "bandage_df= pd.read_csv('Real_Results/TestDistance.tsv', sep='\\t')\n",
    "bandage_df"
   ]
  },
  {
   "cell_type": "code",
   "execution_count": null,
   "id": "5b6e08dc",
   "metadata": {},
   "outputs": [],
   "source": [
    "#Get the sequences from bandage where the Path2 in GraphAligner=none\n",
    "distance_df=pd.merge(extracted_sequences_Path1_df,bandage_df, on='Query')"
   ]
  },
  {
   "cell_type": "code",
   "execution_count": null,
   "id": "6f9316af",
   "metadata": {},
   "outputs": [],
   "source": [
    "distance_df"
   ]
  },
  {
   "cell_type": "code",
   "execution_count": null,
   "id": "71d76c3d",
   "metadata": {},
   "outputs": [],
   "source": [
    "distance_df.rename(columns = {'Result_node1':'Sequence_GraphAligner'}, inplace = True)\n",
    "distance_df.rename(columns = {'Sequence_y':'Sequence_Bandage'}, inplace = True)"
   ]
  },
  {
   "cell_type": "code",
   "execution_count": null,
   "id": "35f6892a",
   "metadata": {},
   "outputs": [],
   "source": [
    "distance_df=distance_df.drop('Unnamed: 0_x', axis=1)"
   ]
  },
  {
   "cell_type": "code",
   "execution_count": null,
   "id": "02e877ff",
   "metadata": {},
   "outputs": [],
   "source": [
    "distance_df=distance_df.drop('Unnamed: 0_y', axis=1)"
   ]
  },
  {
   "cell_type": "code",
   "execution_count": null,
   "id": "5cc7b899",
   "metadata": {},
   "outputs": [],
   "source": [
    "distance_df"
   ]
  },
  {
   "cell_type": "code",
   "execution_count": null,
   "id": "ca3b106c",
   "metadata": {},
   "outputs": [],
   "source": [
    "#Create a method to calculate the levenstein distance\n",
    "def calculate_edit_distance_Bandage_GraphAligner(row):\n",
    "    return Levenshtein.distance(row['Sequence_Bandage'], row['Sequence_GraphAligner'])"
   ]
  },
  {
   "cell_type": "code",
   "execution_count": null,
   "id": "e68254f9",
   "metadata": {},
   "outputs": [],
   "source": [
    "distance_df['edit_distance_query_Bandage_GraphAligner'] = distance_df.apply(calculate_edit_distance_Bandage_GraphAligner, axis=1)"
   ]
  },
  {
   "cell_type": "code",
   "execution_count": null,
   "id": "3e9cfbf4",
   "metadata": {},
   "outputs": [],
   "source": [
    "distance_df.dtypes"
   ]
  },
  {
   "cell_type": "code",
   "execution_count": null,
   "id": "357a6415",
   "metadata": {},
   "outputs": [],
   "source": [
    "type_counts_bandage_GraphAligner=distance_df['edit_distance_query_Bandage_GraphAligner'].value_counts().reset_index()"
   ]
  },
  {
   "cell_type": "code",
   "execution_count": null,
   "id": "e363f54c",
   "metadata": {
    "scrolled": true
   },
   "outputs": [],
   "source": [
    "# Rename the columns\n",
    "type_counts_bandage_GraphAligner.columns = ['Type', 'Count']\n",
    "\n",
    "# Display the result\n",
    "print(type_counts_bandage_GraphAligner)"
   ]
  },
  {
   "cell_type": "code",
   "execution_count": null,
   "id": "b7168c82",
   "metadata": {},
   "outputs": [],
   "source": [
    "type_counts_bandage_GraphAligner.to_csv(\"Real_Results/type_counts_bandage_GraphAligner.tsv\",sep='\\t')"
   ]
  },
  {
   "cell_type": "code",
   "execution_count": null,
   "id": "d4ab8ae1",
   "metadata": {},
   "outputs": [],
   "source": [
    "#Get the sequences from bandage where the Path2 in GraphAligner is not none\n",
    "distance_df_multiple=pd.merge(extracted_sequences_multiple_final,bandage_df, on='Query')\n",
    "distance_df_multiple"
   ]
  },
  {
   "cell_type": "code",
   "execution_count": null,
   "id": "2aa7f75e",
   "metadata": {},
   "outputs": [],
   "source": [
    "distance_df_multiple.rename(columns = {'Concatenated_Sequence':'Sequence_GraphAligner'}, inplace = True)\n",
    "distance_df_multiple.rename(columns = {'Sequence':'Sequence_Bandage'}, inplace = True)"
   ]
  },
  {
   "cell_type": "code",
   "execution_count": null,
   "id": "efda214c",
   "metadata": {},
   "outputs": [],
   "source": [
    "distance_df_multiple['edit_distance_query_Bandage_GraphAligner'] = distance_df_multiple.apply(calculate_edit_distance_Bandage_GraphAligner, axis=1)"
   ]
  },
  {
   "cell_type": "code",
   "execution_count": null,
   "id": "9e52d666",
   "metadata": {},
   "outputs": [],
   "source": [
    "distance_df_multiple"
   ]
  },
  {
   "cell_type": "code",
   "execution_count": null,
   "id": "342d089f",
   "metadata": {},
   "outputs": [],
   "source": [
    "type_counts_bandage_GraphAligner_multiple=distance_df_multiple['edit_distance_query_Bandage_GraphAligner'].value_counts().reset_index()"
   ]
  },
  {
   "cell_type": "code",
   "execution_count": null,
   "id": "d9d73d74",
   "metadata": {},
   "outputs": [],
   "source": [
    "# Rename the columns\n",
    "type_counts_bandage_GraphAligner_multiple.columns = ['Type', 'Count']\n",
    "\n",
    "# Display the result\n",
    "print(type_counts_bandage_GraphAligner_multiple)"
   ]
  },
  {
   "cell_type": "code",
   "execution_count": null,
   "id": "291f8c42",
   "metadata": {},
   "outputs": [],
   "source": [
    "type_counts_bandage_GraphAligner_multiple.to_csv(\"Real_Results/type_counts_bandage_GraphAligner_multiple.tsv\",sep='\\t')"
   ]
  },
  {
   "cell_type": "code",
   "execution_count": null,
   "id": "3f623da5",
   "metadata": {},
   "outputs": [],
   "source": [
    "#Read the query and sequences from the .fasta file\n",
    "fasta_file = \"111_Graph/combined_1.fasta\"  \n",
    "\n",
    "# Create empty lists to store the data\n",
    "queries = []\n",
    "sequences = []\n",
    "\n",
    "# Read through the FASTA file and extract query and sequence information\n",
    "for record in SeqIO.parse(fasta_file, \"fasta\"):\n",
    "    queries.append(record.id)\n",
    "    sequences.append(str(record.seq))\n",
    "\n",
    "# Create DataFrame from the lists\n",
    "fasta_df = pd.DataFrame({'Query': queries, 'Sequence': sequences})\n",
    "\n",
    "# Display the DataFrame\n",
    "print(fasta_df)"
   ]
  },
  {
   "cell_type": "code",
   "execution_count": null,
   "id": "e841cd3a",
   "metadata": {},
   "outputs": [],
   "source": [
    "distance_df_Sequence=pd.merge(extracted_sequences_Path1_df,fasta_df, on='Query')"
   ]
  },
  {
   "cell_type": "code",
   "execution_count": null,
   "id": "0ebff99a",
   "metadata": {},
   "outputs": [],
   "source": [
    "distance_df_Sequence"
   ]
  },
  {
   "cell_type": "code",
   "execution_count": null,
   "id": "908f363b",
   "metadata": {},
   "outputs": [],
   "source": [
    "distance_df_Sequence.rename(columns = {'Result_node1':'Sequence_GraphAligner'}, inplace = True)\n",
    "distance_df_Sequence.rename(columns = {'Sequence_y':'Sequence'}, inplace = True)"
   ]
  },
  {
   "cell_type": "code",
   "execution_count": null,
   "id": "e9f054b9",
   "metadata": {},
   "outputs": [],
   "source": [
    "distance_df_Sequence"
   ]
  },
  {
   "cell_type": "code",
   "execution_count": null,
   "id": "c2672a46",
   "metadata": {},
   "outputs": [],
   "source": [
    "#Create a method to calculate the levenstein distance\n",
    "def calculate_edit_distance_sequence_GraphAligner(row):\n",
    "    return Levenshtein.distance(row['Sequence'], row['Sequence_GraphAligner'])"
   ]
  },
  {
   "cell_type": "code",
   "execution_count": null,
   "id": "d6e78398",
   "metadata": {},
   "outputs": [],
   "source": [
    "distance_df_Sequence['edit_distance_query_sequence_GraphAligner'] = distance_df_Sequence.apply(calculate_edit_distance_sequence_GraphAligner, axis=1)"
   ]
  },
  {
   "cell_type": "code",
   "execution_count": null,
   "id": "44ad26a2",
   "metadata": {},
   "outputs": [],
   "source": [
    "distance_df_Sequence"
   ]
  },
  {
   "cell_type": "code",
   "execution_count": null,
   "id": "ccee5849",
   "metadata": {},
   "outputs": [],
   "source": []
  }
 ],
 "metadata": {
  "kernelspec": {
   "display_name": "Python 3 (ipykernel)",
   "language": "python",
   "name": "python3"
  },
  "language_info": {
   "codemirror_mode": {
    "name": "ipython",
    "version": 3
   },
   "file_extension": ".py",
   "mimetype": "text/x-python",
   "name": "python",
   "nbconvert_exporter": "python",
   "pygments_lexer": "ipython3",
   "version": "3.10.9"
  }
 },
 "nbformat": 4,
 "nbformat_minor": 5
}
