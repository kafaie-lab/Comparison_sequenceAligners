{
 "cells": [
  {
   "cell_type": "markdown",
   "id": "cb8eb91e",
   "metadata": {},
   "source": [
    "## This script is used the count the different categories for each pair of software."
   ]
  },
  {
   "cell_type": "code",
   "execution_count": 1,
   "id": "e43f0cf6",
   "metadata": {},
   "outputs": [],
   "source": [
    "# import the libraries\n",
    "import numpy as np\n",
    "import pandas as pd\n",
    "import re \n",
    "from Bio import SeqIO\n",
    "from collections import defaultdict"
   ]
  },
  {
   "cell_type": "code",
   "execution_count": 2,
   "id": "627f842a",
   "metadata": {},
   "outputs": [],
   "source": [
    "# Create a dataframe for Bandage Combined1\n",
    "Categories= pd.read_csv(\"CategorizeResultsCAMIH1.tsv\", sep='\\t')"
   ]
  },
  {
   "cell_type": "code",
   "execution_count": 3,
   "id": "36e46dfa",
   "metadata": {},
   "outputs": [
    {
     "data": {
      "text/plain": [
       "Index(['Unnamed: 0', 'Query', 'Path_Bandage', 'Start_Bandage', 'End_Bandage',\n",
       "       'Extracted_Path', 'Start_SPAligner', 'End_SPAligner',\n",
       "       'Length_SPAligner', 'Path_SPAligner', 'Path_GraphAligner',\n",
       "       'Start_GraphAligner', 'End_GraphAligner', 'BandageVSSPAligner',\n",
       "       'FinalResultsBandageVSSPAligner', 'SPAlignerVSGraphAligner',\n",
       "       'FinalResultsSPAlignerVSGraphAligner', 'BandageVSGraphAligner',\n",
       "       'ResultsBandageVSGraphAligner', 'FinalResultBandageVSGraphAligner'],\n",
       "      dtype='object')"
      ]
     },
     "execution_count": 3,
     "metadata": {},
     "output_type": "execute_result"
    }
   ],
   "source": [
    "Categories.columns"
   ]
  },
  {
   "cell_type": "code",
   "execution_count": 4,
   "id": "0580a358",
   "metadata": {},
   "outputs": [
    {
     "data": {
      "text/plain": [
       "Unnamed: 0                              int64\n",
       "Query                                  object\n",
       "Path_Bandage                           object\n",
       "Start_Bandage                          object\n",
       "End_Bandage                            object\n",
       "Extracted_Path                         object\n",
       "Start_SPAligner                        object\n",
       "End_SPAligner                          object\n",
       "Length_SPAligner                       object\n",
       "Path_SPAligner                         object\n",
       "Path_GraphAligner                      object\n",
       "Start_GraphAligner                      int64\n",
       "End_GraphAligner                        int64\n",
       "BandageVSSPAligner                     object\n",
       "FinalResultsBandageVSSPAligner         object\n",
       "SPAlignerVSGraphAligner                object\n",
       "FinalResultsSPAlignerVSGraphAligner    object\n",
       "BandageVSGraphAligner                  object\n",
       "ResultsBandageVSGraphAligner           object\n",
       "FinalResultBandageVSGraphAligner       object\n",
       "dtype: object"
      ]
     },
     "execution_count": 4,
     "metadata": {},
     "output_type": "execute_result"
    }
   ],
   "source": [
    "Categories.dtypes"
   ]
  },
  {
   "cell_type": "code",
   "execution_count": 5,
   "id": "81c88c70",
   "metadata": {},
   "outputs": [
    {
     "name": "stdout",
     "output_type": "stream",
     "text": [
      "FinalResultsBandageVSSPAligner\n",
      "SinglePathMatch    668\n",
      "Different           39\n",
      "Name: count, dtype: int64\n"
     ]
    }
   ],
   "source": [
    "category_counts = Categories['FinalResultsBandageVSSPAligner'].value_counts()\n",
    "\n",
    "print(category_counts)"
   ]
  },
  {
   "cell_type": "code",
   "execution_count": 6,
   "id": "d89a4113",
   "metadata": {},
   "outputs": [
    {
     "name": "stdout",
     "output_type": "stream",
     "text": [
      "FinalResultBandageVSGraphAligner\n",
      "Full               502\n",
      "SinglePathMatch    170\n",
      "Different           35\n",
      "Name: count, dtype: int64\n"
     ]
    }
   ],
   "source": [
    "category_counts = Categories['FinalResultBandageVSGraphAligner'].value_counts()\n",
    "\n",
    "print(category_counts)"
   ]
  },
  {
   "cell_type": "code",
   "execution_count": 7,
   "id": "80950849",
   "metadata": {},
   "outputs": [
    {
     "name": "stdout",
     "output_type": "stream",
     "text": [
      "FinalResultsSPAlignerVSGraphAligner\n",
      "SinglePathMatch    674\n",
      "Different           33\n",
      "Name: count, dtype: int64\n"
     ]
    }
   ],
   "source": [
    "category_counts = Categories['FinalResultsSPAlignerVSGraphAligner'].value_counts()\n",
    "\n",
    "print(category_counts)"
   ]
  },
  {
   "cell_type": "code",
   "execution_count": null,
   "id": "5040c080",
   "metadata": {},
   "outputs": [],
   "source": []
  },
  {
   "cell_type": "code",
   "execution_count": null,
   "id": "162b6162",
   "metadata": {},
   "outputs": [],
   "source": []
  }
 ],
 "metadata": {
  "kernelspec": {
   "display_name": "Python 3 (ipykernel)",
   "language": "python",
   "name": "python3"
  },
  "language_info": {
   "codemirror_mode": {
    "name": "ipython",
    "version": 3
   },
   "file_extension": ".py",
   "mimetype": "text/x-python",
   "name": "python",
   "nbconvert_exporter": "python",
   "pygments_lexer": "ipython3",
   "version": "3.10.9"
  }
 },
 "nbformat": 4,
 "nbformat_minor": 5
}
