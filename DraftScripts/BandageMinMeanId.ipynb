{
 "cells": [
  {
   "cell_type": "markdown",
   "id": "96696781",
   "metadata": {},
   "source": [
    "## This script compares the two results from Bandage: minmeanid 0.5(default) and minmeanid 0.66\n",
    "### We attempt to find if the two dataframes have any differences"
   ]
  },
  {
   "cell_type": "code",
   "execution_count": 1,
   "id": "ea1b06b5",
   "metadata": {},
   "outputs": [],
   "source": [
    "# import the libraries\n",
    "import numpy as np\n",
    "import pandas as pd\n",
    "import re \n",
    "from Bio import SeqIO\n",
    "from collections import defaultdict"
   ]
  },
  {
   "cell_type": "code",
   "execution_count": 2,
   "id": "b9d65e5a",
   "metadata": {},
   "outputs": [],
   "source": [
    "#Create a dataframe for Bandage Combined1\n",
    "Bandage_Combined1= pd.read_csv('Bandageoutputcombined1.tsv', sep='\\t')"
   ]
  },
  {
   "cell_type": "code",
   "execution_count": null,
   "id": "d251e9a7",
   "metadata": {},
   "outputs": [],
   "source": [
    "Bandage_Combined1=Bandage_Combined1.sort_values('Query')\n",
    "Bandage_Combined1=Bandage_Combined1.reset_index(drop=True)"
   ]
  },
  {
   "cell_type": "code",
   "execution_count": null,
   "id": "17843324",
   "metadata": {},
   "outputs": [],
   "source": [
    "#Create a dataframe for Bandage outputcombined1meanminid = 0.66\n",
    "Bandage_Combined1MinMeanId= pd.read_csv('Bandageoutputcombined1minmeanid.tsv',sep='\\t')"
   ]
  },
  {
   "cell_type": "code",
   "execution_count": null,
   "id": "1d24ea77",
   "metadata": {},
   "outputs": [],
   "source": [
    "Bandage_Combined1MinMeanId=Bandage_Combined1MinMeanId.sort_values('Query')\n",
    "Bandage_Combined1MinMeanId= Bandage_Combined1MinMeanId.reset_index(drop=True)"
   ]
  },
  {
   "cell_type": "code",
   "execution_count": null,
   "id": "580ed360",
   "metadata": {},
   "outputs": [],
   "source": [
    "#Get the difference between the two dataframes\n",
    "Bandage_Combined1.compare(Bandage_Combined1MinMeanId)"
   ]
  },
  {
   "cell_type": "markdown",
   "id": "d92c40b6",
   "metadata": {},
   "source": [
    "### Observation\n",
    "Between the two dataframes, the Mean hit identity is the column that differs. The diffrence is that when minmeanid =0.66, the results are to 2 dp instead of 3 dp."
   ]
  },
  {
   "cell_type": "code",
   "execution_count": null,
   "id": "d901736b",
   "metadata": {},
   "outputs": [],
   "source": [
    "#Get the number of queries that have more than one path in Bandage\n",
    "#From the dataframe using default parameters\n",
    "Bandage_Combined1['Query'].value_counts() "
   ]
  },
  {
   "cell_type": "code",
   "execution_count": null,
   "id": "ff3ffa45",
   "metadata": {},
   "outputs": [],
   "source": [
    "np.where(Bandage_Combined1['Query Repeat']>1)\n"
   ]
  },
  {
   "cell_type": "code",
   "execution_count": null,
   "id": "860bd2ac",
   "metadata": {},
   "outputs": [],
   "source": []
  }
 ],
 "metadata": {
  "kernelspec": {
   "display_name": "Python 3 (ipykernel)",
   "language": "python",
   "name": "python3"
  },
  "language_info": {
   "codemirror_mode": {
    "name": "ipython",
    "version": 3
   },
   "file_extension": ".py",
   "mimetype": "text/x-python",
   "name": "python",
   "nbconvert_exporter": "python",
   "pygments_lexer": "ipython3",
   "version": "3.10.9"
  }
 },
 "nbformat": 4,
 "nbformat_minor": 5
}
