{
 "cells": [
  {
   "cell_type": "markdown",
   "id": "c4a6baab",
   "metadata": {},
   "source": [
    "## This script reads the paths from each "
   ]
  },
  {
   "cell_type": "code",
   "execution_count": null,
   "id": "fb159539",
   "metadata": {},
   "outputs": [],
   "source": [
    "# import the libraries\n",
    "import numpy as np\n",
    "import pandas as pd\n",
    "import re \n",
    "from Bio import SeqIO\n",
    "from collections import defaultdict"
   ]
  },
  {
   "cell_type": "code",
   "execution_count": null,
   "id": "9125878f",
   "metadata": {},
   "outputs": [],
   "source": [
    "# Create a dataframe for Bandage Combined1\n",
    "master_df= pd.read_csv('111_GraphResults/QueriesAndResultsMasterList.tsv', sep='\\t')"
   ]
  },
  {
   "cell_type": "code",
   "execution_count": null,
   "id": "6af5d0f0",
   "metadata": {},
   "outputs": [],
   "source": [
    "master_df"
   ]
  },
  {
   "cell_type": "code",
   "execution_count": null,
   "id": "be228c22",
   "metadata": {},
   "outputs": [],
   "source": [
    "#Drop the columns\n",
    "master_df=master_df.drop(['BandageVSSPAligner','SPAlignerVSGraphAligner'],axis=1)"
   ]
  },
  {
   "cell_type": "code",
   "execution_count": null,
   "id": "9d5ea3b5",
   "metadata": {},
   "outputs": [],
   "source": [
    "master_df"
   ]
  },
  {
   "cell_type": "code",
   "execution_count": null,
   "id": "6010f583",
   "metadata": {},
   "outputs": [],
   "source": [
    "#Remove the + or - from the Path_SPAligner\n",
    "#master_df['Path_SPAligner']=master_df['Path_SPAligner'].str.replace(r'[+-]', '', regex=True)\n",
    "master_df['End_Bandage']=master_df['End_Bandage'].str.replace(r'[+-]', '', regex=True)"
   ]
  },
  {
   "cell_type": "code",
   "execution_count": null,
   "id": "961e33a4",
   "metadata": {},
   "outputs": [],
   "source": [
    "#Add +2 to the values of Start_SPAligner to comapre with Start_GraphAligner\n",
    "master_df['Start_SPAligner_GraphAligner'] = master_df['Start_SPAligner'].apply(lambda x: ', '.join(str(int(val) + 2) for val in x.split(',')))"
   ]
  },
  {
   "cell_type": "code",
   "execution_count": null,
   "id": "f743d356",
   "metadata": {},
   "outputs": [],
   "source": [
    "#Add +1 to the values of Start_SPAligner to comapre with Start_GraphAligner\n",
    "master_df['Start_SPAligner_Bandage'] = master_df['Start_SPAligner'].apply(lambda x: ', '.join(str(int(val) + 1) for val in x.split(',')))"
   ]
  },
  {
   "cell_type": "code",
   "execution_count": null,
   "id": "758b4342",
   "metadata": {},
   "outputs": [],
   "source": [
    "master_df"
   ]
  },
  {
   "cell_type": "code",
   "execution_count": null,
   "id": "65bd49ff",
   "metadata": {},
   "outputs": [],
   "source": [
    "#Remove the braces from the end_Bandage\n",
    "master_df['End_Bandage'] = master_df['End_Bandage'].str.replace('(', '').str.replace(')', '')\n",
    "master_df"
   ]
  },
  {
   "cell_type": "markdown",
   "id": "c134923f",
   "metadata": {},
   "source": [
    "## This section compares the result from SPAligner and Bandage"
   ]
  },
  {
   "cell_type": "code",
   "execution_count": null,
   "id": "962c1f25",
   "metadata": {},
   "outputs": [],
   "source": [
    "#Convert Path_GraphAligner, Start_GraphAligner and End_GraphAligner into int\n",
    "master_df= master_df.fillna(000)\n",
    "master_df['Start_GraphAligner']=master_df['Start_GraphAligner'].astype(int)\n",
    "master_df['End_GraphAligner']=master_df['End_GraphAligner'].astype(int)\n",
    "master_df['Path_GraphAligner']=master_df['Path_GraphAligner'].astype(int)\n",
    "master_df"
   ]
  },
  {
   "cell_type": "code",
   "execution_count": null,
   "id": "71e54ca8",
   "metadata": {},
   "outputs": [],
   "source": [
    "master_df.dtypes"
   ]
  },
  {
   "cell_type": "code",
   "execution_count": null,
   "id": "b7a15ab2",
   "metadata": {},
   "outputs": [],
   "source": [
    "master_df['Start_SPAligner']=master_df['Start_SPAligner'].astype(str)\n",
    "#master_df['Start_SPAligner_GraphAligner']=master_df['Start_SPAligner_GraphAligner'].astype(str)\n",
    "#master_df['Start_SPAligner_Bandage']=master_df['Start_SPAligner_Bandage'].astype(str)\n",
    "\n",
    "master_df['End_SPAligner']=master_df['End_SPAligner'].astype(str)\n",
    "master_df['Path_SPAligner']=master_df['Path_SPAligner'].astype(str)"
   ]
  },
  {
   "cell_type": "code",
   "execution_count": null,
   "id": "e32b0c34",
   "metadata": {},
   "outputs": [],
   "source": [
    "master_df"
   ]
  },
  {
   "cell_type": "code",
   "execution_count": null,
   "id": "b4b4b1fa",
   "metadata": {},
   "outputs": [],
   "source": [
    "def compare_values_Bandage_SPAligner(row):\n",
    "    if row['Start_Bandage'] == row['Start_SPAligner'] and row['End_Bandage'] == row['End_SPAligner'] and row['Extracted_Path'] == row['Path_SPAligner']:\n",
    "        return 'Full'\n",
    "    elif row['Extracted_Path'] == row['Path_SPAligner']and row['Start_Bandage'] != row['Start_SPAligner'] and row['End_Bandage'] != row['End_SPAligner']:\n",
    "        return 'MatchOnPath'\n",
    "    elif row['Extracted_Path'] == row['Path_SPAligner'] and row['Start_Bandage'] == row['Start_SPAligner'] and row['End_Bandage'] != row['End_SPAligner'] :\n",
    "        return 'MatchOnPathAndStart'\n",
    "    elif row['Extracted_Path'] == row['Path_SPAligner'] and row['Start_Bandage'] != row['Start_SPAligner'] and row['End_Bandage'] == row['End_SPAligner'] :\n",
    "        return 'MatchOnPathAndEnd'\n",
    "    else:\n",
    "        return 'Different'"
   ]
  },
  {
   "cell_type": "code",
   "execution_count": null,
   "id": "1d0a0ad3",
   "metadata": {},
   "outputs": [],
   "source": [
    "master_df['BandageVSSPAligner'] = master_df.apply(compare_values_Bandage_SPAligner, axis=1)"
   ]
  },
  {
   "cell_type": "code",
   "execution_count": null,
   "id": "f65a8afd",
   "metadata": {},
   "outputs": [],
   "source": [
    "master_df.dtypes"
   ]
  },
  {
   "cell_type": "code",
   "execution_count": null,
   "id": "5c9ca0b1",
   "metadata": {},
   "outputs": [],
   "source": [
    "master_df.to_csv(\"TestCompare1.tsv\",sep='\\t')"
   ]
  },
  {
   "cell_type": "code",
   "execution_count": null,
   "id": "fa486b88",
   "metadata": {},
   "outputs": [],
   "source": [
    "BandagevsSPAligner_df=master_df[['Query','Path_Bandage','Start_Bandage','End_Bandage','Extracted_Path',\n",
    "                                'Start_SPAligner','End_SPAligner','Path_SPAligner']]"
   ]
  },
  {
   "cell_type": "code",
   "execution_count": null,
   "id": "ba577ec7",
   "metadata": {},
   "outputs": [],
   "source": [
    "BandagevsSPAligner_df"
   ]
  },
  {
   "cell_type": "code",
   "execution_count": null,
   "id": "7dd53b59",
   "metadata": {},
   "outputs": [],
   "source": [
    "BandagevsSPAligner_df['BandageVSSPAligner'] = BandagevsSPAligner_df.apply(compare_values_Bandage_SPAligner, axis=1)"
   ]
  },
  {
   "cell_type": "code",
   "execution_count": null,
   "id": "99cbea7e",
   "metadata": {},
   "outputs": [],
   "source": [
    "BandagevsSPAligner_df.to_csv('TestRes.tsv',sep='\\t')"
   ]
  },
  {
   "cell_type": "code",
   "execution_count": null,
   "id": "ab9c030d",
   "metadata": {},
   "outputs": [],
   "source": [
    "BandagevsSPAligner_df.dtypes"
   ]
  },
  {
   "cell_type": "code",
   "execution_count": null,
   "id": "06b090d5",
   "metadata": {},
   "outputs": [],
   "source": [
    "output_list = []\n",
    "\n",
    "for index, row in BandagevsSPAligner_df.iterrows():\n",
    "    path_values = str(row['Extracted_Path']).split(',')\n",
    "    start_values = str(row['Start_Bandage']).split(',')\n",
    "    end_values = str(row['End_Bandage']).split(',')\n",
    "    \n",
    "    path_value = row['Path_SPAligner']\n",
    "    start_value= str(row['Start_SPAligner']).split(',')\n",
    "    end_value= str(row['End_SPAligner']).split(',')\n",
    "    \n",
    "    if path_value in path_values  and start_value in start_values and end_value in end_values:\n",
    "        output_list.append('SinglePathFull')\n",
    "    elif path_value in path_values and start_value in start_values and end_value not in end_values:\n",
    "        output_list.append('SinglePathStartMatch')\n",
    "    elif path_value in path_values and start_value not in start_values and end_value in end_values:\n",
    "        output_list.append('SinglePathEndMatch')\n",
    "    elif path_value in path_values and start_value not in start_values and end_value not in end_values:\n",
    "        output_list.append('SinglePathMatch')\n",
    "    elif path_value not in path_values and start_value in start_values and end_value not in end_values:\n",
    "        output_list.append('SingleStartMatch')\n",
    "    else:\n",
    "         output_list.append('Different')\n",
    "\n",
    "BandagevsSPAligner_df['ResultsBandageVSSPAligner'] = output_list"
   ]
  },
  {
   "cell_type": "code",
   "execution_count": null,
   "id": "fc008684",
   "metadata": {},
   "outputs": [],
   "source": [
    "def determine_final_result(row):\n",
    "    if row['BandageVSSPAligner'] == 'Full':\n",
    "        return 'Full'\n",
    "    elif row['BandageVSSPAligner'] == 'MatchOnPath':\n",
    "        return 'MatchOnPath'\n",
    "    else:\n",
    "        return row['ResultsBandageVSSPAligner']"
   ]
  },
  {
   "cell_type": "code",
   "execution_count": null,
   "id": "b1b2f84e",
   "metadata": {},
   "outputs": [],
   "source": [
    "BandagevsSPAligner_df.dtypes"
   ]
  },
  {
   "cell_type": "code",
   "execution_count": null,
   "id": "cbb982e9",
   "metadata": {},
   "outputs": [],
   "source": [
    "BandagevsSPAligner_df['FinalResultBandageVSSPAligner'] = BandagevsSPAligner_df.apply(determine_final_result, axis=1)"
   ]
  },
  {
   "cell_type": "code",
   "execution_count": null,
   "id": "69377fd6",
   "metadata": {},
   "outputs": [],
   "source": [
    "BandagevsSPAligner_df.to_csv('TestResultCategoriesBandageSPAligner.tsv',sep='\\t')"
   ]
  },
  {
   "cell_type": "markdown",
   "id": "47fd429c",
   "metadata": {},
   "source": [
    "## This section compares the values from GraphAligner and Bandage"
   ]
  },
  {
   "cell_type": "code",
   "execution_count": null,
   "id": "f9d9b038",
   "metadata": {},
   "outputs": [],
   "source": [
    "master_df['Start_GraphAligner']=master_df['Start_GraphAligner'].astype(str)\n",
    "master_df['End_GraphAligner']=master_df['End_GraphAligner'].astype(str)\n",
    "master_df['Path_GraphAligner']=master_df['Path_GraphAligner'].astype(str)"
   ]
  },
  {
   "cell_type": "code",
   "execution_count": null,
   "id": "fad728d1",
   "metadata": {},
   "outputs": [],
   "source": [
    "BandagevsGraphAligner_df=master_df[['Query','Path_Bandage','Start_Bandage','End_Bandage','Extracted_Path',\n",
    "                                'Start_GraphAligner','End_GraphAligner','Path_GraphAligner']]"
   ]
  },
  {
   "cell_type": "code",
   "execution_count": null,
   "id": "320fc7fb",
   "metadata": {},
   "outputs": [],
   "source": [
    "BandagevsGraphAligner_df\n"
   ]
  },
  {
   "cell_type": "code",
   "execution_count": null,
   "id": "9f009998",
   "metadata": {},
   "outputs": [],
   "source": [
    "def compare_values_Bandage_GraphAligner(row):\n",
    "    if row['Start_Bandage'] == row['Start_GraphAligner'] and row['End_Bandage'] == row['End_GraphAligner'] and row['Extracted_Path'] == row['Path_GraphAligner']:\n",
    "        return 'Full'\n",
    "    elif row['Extracted_Path'] == row['Path_GraphAligner']  and row['Start_Bandage'] != row['Start_GraphAligner'] and row['End_Bandage'] != row['End_GraphAligner'] :\n",
    "        return 'MatchOnPath'\n",
    "    elif row['Extracted_Path'] == row['Path_GraphAligner'] and row['Start_Bandage'] == row['Start_GraphAligner'] and row['End_Bandage'] != row['End_GraphAligner'] :\n",
    "        return 'MatchOnPathAndStart'\n",
    "    elif row['Extracted_Path'] == row['Path_GraphAligner'] and row['Start_Bandage'] != row['Start_GraphAligner'] and row['End_Bandage'] == row['End_GraphAligner'] :\n",
    "        return 'MatchOnPathAndEnd'\n",
    "    else:\n",
    "        return 'Different'"
   ]
  },
  {
   "cell_type": "code",
   "execution_count": null,
   "id": "85816ba6",
   "metadata": {},
   "outputs": [],
   "source": [
    "BandagevsGraphAligner_df['BandageVSGraphAligner'] = BandagevsGraphAligner_df.apply(compare_values_Bandage_GraphAligner, axis=1)"
   ]
  },
  {
   "cell_type": "code",
   "execution_count": null,
   "id": "f787350b",
   "metadata": {},
   "outputs": [],
   "source": [
    "BandagevsGraphAligner_df.to_csv('rESULT44.tsv',sep='\\t')"
   ]
  },
  {
   "cell_type": "code",
   "execution_count": null,
   "id": "d260d97b",
   "metadata": {},
   "outputs": [],
   "source": [
    "output_list1 = []\n",
    "\n",
    "for index, row in BandagevsGraphAligner_df.iterrows():\n",
    "    path_values = str(row['Extracted_Path']).split(',')\n",
    "    start_values = str(row['Start_Bandage']).split(',')\n",
    "    end_values = str(row['End_Bandage']).split(',')\n",
    "    \n",
    "    path_value = str(row['Path_GraphAligner']).split(',')\n",
    "    start_value= str(row['Start_GraphAligner']).split(',')\n",
    "    end_value= str(row['End_GraphAligner']).split(',')\n",
    "    \n",
    "    if path_value in path_values and start_value in start_values and end_value in end_values:\n",
    "        output_list1.append('SinglePathFull')\n",
    "    elif path_value in path_values and start_value in start_values and end_value not in end_values:\n",
    "        output_list1.append('SinglePathStartMatch')\n",
    "    elif path_value in path_values and start_value not in start_values and end_value  in end_values:\n",
    "        output_list1.append('SinglePathEndMatch')\n",
    "    elif path_value in path_values and start_value not in start_values and end_value not in end_values:\n",
    "        output_list1.append('SinglePathMatch')\n",
    "    else:\n",
    "         output_list1.append('Different')\n",
    "    \n",
    "\n",
    "BandagevsGraphAligner_df['ResultsBandageVSGraphAligner'] = output_list1"
   ]
  },
  {
   "cell_type": "code",
   "execution_count": null,
   "id": "2555f069",
   "metadata": {},
   "outputs": [],
   "source": [
    "BandagevsGraphAligner_df.to_csv('rESULT445.tsv',sep='\\t')"
   ]
  },
  {
   "cell_type": "code",
   "execution_count": null,
   "id": "4f676fd5",
   "metadata": {},
   "outputs": [],
   "source": [
    "def determine_final_result_1(row):\n",
    "    if row['BandageVSGraphAligner'] == 'Full':\n",
    "        return 'Full'\n",
    "    elif row['BandageVSGraphAligner'] == 'MatchOnPath':\n",
    "        return 'MatchOnPath'\n",
    "    else:\n",
    "        return row['ResultsBandageVSGraphAligner']"
   ]
  },
  {
   "cell_type": "code",
   "execution_count": null,
   "id": "103c8bde",
   "metadata": {},
   "outputs": [],
   "source": [
    "BandagevsGraphAligner_df['FinalResultBandageVSGraphAligner'] = BandagevsGraphAligner_df.apply(determine_final_result_1, axis=1)"
   ]
  },
  {
   "cell_type": "code",
   "execution_count": null,
   "id": "c8f81c55",
   "metadata": {},
   "outputs": [],
   "source": [
    "BandagevsGraphAligner_df.to_csv('TestResultCategoriesBandageGraphAligner.tsv',sep='\\t')"
   ]
  },
  {
   "cell_type": "code",
   "execution_count": null,
   "id": "23d9b31b",
   "metadata": {},
   "outputs": [],
   "source": [
    "BandagevsGraphAligner_df"
   ]
  },
  {
   "cell_type": "markdown",
   "id": "6338c6ef",
   "metadata": {},
   "source": [
    "## This section compares the results from GraphAligner and SPAligner"
   ]
  },
  {
   "cell_type": "code",
   "execution_count": null,
   "id": "420a59e6",
   "metadata": {},
   "outputs": [],
   "source": [
    "SPAlignervsGraphAligner_df=master_df[['Query','Start_SPAligner','End_SPAligner','Path_SPAligner',\n",
    "                                'Start_GraphAligner','End_GraphAligner','Path_GraphAligner']]"
   ]
  },
  {
   "cell_type": "code",
   "execution_count": null,
   "id": "130652f8",
   "metadata": {},
   "outputs": [],
   "source": [
    "SPAlignervsGraphAligner_df.dtypes"
   ]
  },
  {
   "cell_type": "code",
   "execution_count": null,
   "id": "c20666de",
   "metadata": {},
   "outputs": [],
   "source": [
    "def compare_values_GraphAligner_SPAligner(row):\n",
    "    if row['Start_SPAligner'] == row['Start_GraphAligner'] and row['End_SPAligner'] == row['End_GraphAligner'] and row['Path_SPAligner'] == row['Path_GraphAligner']:\n",
    "        return 'Full'\n",
    "    elif row['Path_SPAligner'] == row['Path_GraphAligner']and row['Start_SPAligner'] != row['Start_GraphAligner']and row['End_SPAligner'] == row['End_GraphAligner'] :\n",
    "        return 'MatchOnPathAndEnd'\n",
    "    elif row['Path_SPAligner'] == row['Path_GraphAligner'] and row['Start_SPAligner'] == row['Start_GraphAligner'] and row['End_SPAligner'] != row['End_GraphAligner'] :\n",
    "        return 'MatchOnPathAndStart'\n",
    "    elif row['Path_SPAligner'] == row['Path_GraphAligner'] and row['Start_SPAligner'] != row['Start_GraphAligner'] and row['End_SPAligner'] != row['End_GraphAligner'] :\n",
    "        return 'MatchOnPath'\n",
    "    else:\n",
    "        return 'Different'"
   ]
  },
  {
   "cell_type": "code",
   "execution_count": null,
   "id": "195bf160",
   "metadata": {},
   "outputs": [],
   "source": [
    "SPAlignervsGraphAligner_df['SPAlignerVSGraphAligner'] = SPAlignervsGraphAligner_df.apply(compare_values_GraphAligner_SPAligner, axis=1)"
   ]
  },
  {
   "cell_type": "code",
   "execution_count": null,
   "id": "0c2bd963",
   "metadata": {},
   "outputs": [],
   "source": [
    "SPAlignervsGraphAligner_df.to_csv('TestResultCategoriesGraphAlignerSPAligner.tsv',sep='\\t')"
   ]
  },
  {
   "cell_type": "code",
   "execution_count": null,
   "id": "5eb4f3a6",
   "metadata": {},
   "outputs": [],
   "source": [
    "\n",
    "\n",
    "# Assuming your three data frames are named df1, df2, and df3\n",
    "# Merge df1 and df2 based on the common column \"Query\"\n",
    "merged_df_cat = pd.merge(BandagevsSPAligner_df, BandagevsGraphAligner_df, on='Query', how='inner')\n",
    "\n",
    "# Merge the result with df3 based on the common column \"Query\"\n",
    "final_df = pd.merge(merged_df_cat, SPAlignervsGraphAligner_df, on='Query', how='inner')\n"
   ]
  },
  {
   "cell_type": "code",
   "execution_count": null,
   "id": "8d339e29",
   "metadata": {},
   "outputs": [],
   "source": [
    "final_df.columns\n"
   ]
  },
  {
   "cell_type": "code",
   "execution_count": null,
   "id": "08799afe",
   "metadata": {},
   "outputs": [],
   "source": [
    "columns_to_drop = [ 'BandageVSSPAligner', 'ResultsBandageVSSPAligner','BandageVSGraphAligner',\n",
    "       'ResultsBandageVSGraphAligner']"
   ]
  },
  {
   "cell_type": "code",
   "execution_count": null,
   "id": "8973fbce",
   "metadata": {},
   "outputs": [],
   "source": [
    "final_df = final_df.drop(columns=columns_to_drop)"
   ]
  },
  {
   "cell_type": "code",
   "execution_count": null,
   "id": "d586e7b4",
   "metadata": {},
   "outputs": [],
   "source": [
    "final_df.to_csv('Final_df_categrories_111.tsv',sep='\\t')"
   ]
  },
  {
   "cell_type": "code",
   "execution_count": null,
   "id": "542fd665",
   "metadata": {},
   "outputs": [],
   "source": []
  },
  {
   "cell_type": "code",
   "execution_count": null,
   "id": "ded68e27",
   "metadata": {},
   "outputs": [],
   "source": []
  }
 ],
 "metadata": {
  "kernelspec": {
   "display_name": "Python 3 (ipykernel)",
   "language": "python",
   "name": "python3"
  },
  "language_info": {
   "codemirror_mode": {
    "name": "ipython",
    "version": 3
   },
   "file_extension": ".py",
   "mimetype": "text/x-python",
   "name": "python",
   "nbconvert_exporter": "python",
   "pygments_lexer": "ipython3",
   "version": "3.10.9"
  }
 },
 "nbformat": 4,
 "nbformat_minor": 5
}
