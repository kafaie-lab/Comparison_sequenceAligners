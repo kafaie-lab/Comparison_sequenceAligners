{
 "cells": [
  {
   "cell_type": "markdown",
   "id": "77d46a06",
   "metadata": {},
   "source": [
    "## This script is used to bind the results from all 3 software.\n",
    "## Written by Yusreen Shah\n",
    "## Date: May 10th 2023\n",
    "\n",
    "## The masterfile contains all the results."
   ]
  },
  {
   "cell_type": "code",
   "execution_count": null,
   "id": "c06b931c",
   "metadata": {},
   "outputs": [],
   "source": [
    "# import the libraries\n",
    "import numpy as np\n",
    "import pandas as pd\n",
    "import re \n",
    "import Levenshtein\n",
    "from Bio import SeqIO\n",
    "from collections import defaultdict\n"
   ]
  },
  {
   "cell_type": "markdown",
   "id": "3efc860c",
   "metadata": {},
   "source": [
    "## This section saves the list of all the queries in a dataframe"
   ]
  },
  {
   "cell_type": "code",
   "execution_count": null,
   "id": "159e546a",
   "metadata": {},
   "outputs": [],
   "source": [
    "#Read the query and sequences from the .fasta file\n",
    "fasta_file = \"Real_Graph/ERR.fasta\" \n",
    "\n",
    "# Create empty lists to store the data\n",
    "queries = []\n",
    "sequences = []\n",
    "\n",
    "# Read through the FASTA file and extract query and sequence information\n",
    "for record in SeqIO.parse(fasta_file, \"fasta\"):\n",
    "    queries.append(record.id)\n",
    "    sequences.append(str(record.seq))\n",
    "\n",
    "# Create DataFrame from the lists\n",
    "df = pd.DataFrame({'Query': queries, 'Sequence': sequences})\n",
    "\n",
    "# Display the DataFrame\n",
    "print(df)\n"
   ]
  },
  {
   "cell_type": "code",
   "execution_count": null,
   "id": "50206236",
   "metadata": {},
   "outputs": [],
   "source": [
    "# Remove Seq(' and ') from the sequences\n",
    "df['Sequence'] = df['Sequence'].str.replace('Seq(''', '')\n",
    "df['Sequence'] = df['Sequence'].str.replace(')', '')\n",
    "df['Sequence'] = df['Sequence'].str.strip(\" \\' \")\n",
    "df['Sequence']=df['Sequence'].str.rstrip()"
   ]
  },
  {
   "cell_type": "code",
   "execution_count": null,
   "id": "63ada142",
   "metadata": {
    "scrolled": true
   },
   "outputs": [],
   "source": [
    "df=df.sort_values(\"Query\")\n",
    "df=df.reset_index(drop=True)\n",
    "df"
   ]
  },
  {
   "cell_type": "code",
   "execution_count": null,
   "id": "a81ea1aa",
   "metadata": {},
   "outputs": [],
   "source": [
    "df.to_csv(\"testSequences.tsv\",sep=\"\\t\")"
   ]
  },
  {
   "cell_type": "markdown",
   "id": "9c80d54e",
   "metadata": {},
   "source": [
    "## This section is used to compare the results from Bandage and the actual list of queries."
   ]
  },
  {
   "cell_type": "code",
   "execution_count": null,
   "id": "2277abe3",
   "metadata": {},
   "outputs": [],
   "source": [
    "# Create a dataframe for Bandage Combined1\n",
    "Bandage_Combined1= pd.read_csv('Real_Results/realBandage.tsv', sep='\\t')\n",
    "Bandage_Combined1"
   ]
  },
  {
   "cell_type": "code",
   "execution_count": null,
   "id": "b119b831",
   "metadata": {},
   "outputs": [],
   "source": [
    "# Perform a left merge on 'Query' column to compare sequences\n",
    "merged_df_test = pd.merge(df,Bandage_Combined1, on='Query', how='right')\n",
    "\n",
    "merged_df_test"
   ]
  },
  {
   "cell_type": "markdown",
   "id": "8cafad4a",
   "metadata": {},
   "source": [
    "# Calculate the difference between 'Sequence_x' and 'Sequence_y'\n",
    "merged_df_test['Distance'] = Levenshtein.distance(merged_df_test['Sequence_x'],merged_df_test['Sequence_y'])\n",
    "# Create a new dataframe with unique values in the 'Query' column\n",
    "df_unique = df.drop_duplicates(subset='Query', keep='first')\n",
    "\n",
    "\n",
    "#merged_df_test.to_csv(\"CAMIH1_Results/TestDistance.tsv\",sep=\"\\t\")\n",
    "# Print the new dataframe\n",
    "df_unique\n",
    "df_unique.to_csv(\"111_GraphResults/TestDistance.tsv\",sep=\"\\t\")"
   ]
  },
  {
   "cell_type": "code",
   "execution_count": null,
   "id": "0557b6c7",
   "metadata": {},
   "outputs": [],
   "source": [
    "df_unique"
   ]
  },
  {
   "cell_type": "code",
   "execution_count": null,
   "id": "848b5008",
   "metadata": {
    "scrolled": true
   },
   "outputs": [],
   "source": [
    "#len(df.index)\n",
    "Bandage_Combined1.dtypes"
   ]
  },
  {
   "cell_type": "code",
   "execution_count": null,
   "id": "09fa618e",
   "metadata": {},
   "outputs": [],
   "source": [
    "Bandage_Combined_Query_Path =Bandage_Combined1[['Path','Query','Sequence']]"
   ]
  },
  {
   "cell_type": "markdown",
   "id": "a6340136",
   "metadata": {},
   "source": [
    "## Extract the start and end position from the path in Bandage"
   ]
  },
  {
   "cell_type": "code",
   "execution_count": null,
   "id": "f0f71665",
   "metadata": {},
   "outputs": [],
   "source": [
    "# Extract the start position\n",
    "pattern_path_start = r'\\((.*?)\\)' "
   ]
  },
  {
   "cell_type": "code",
   "execution_count": null,
   "id": "21a3afce",
   "metadata": {},
   "outputs": [],
   "source": [
    "#Extract the node position\n",
    "pattern_path_node = r'\\b(\\d+)\\s*[+-]'"
   ]
  },
  {
   "cell_type": "code",
   "execution_count": null,
   "id": "49787f06",
   "metadata": {
    "scrolled": true
   },
   "outputs": [],
   "source": [
    "Bandage_Combined_Query_Path['Extracted_Path'] = Bandage_Combined_Query_Path['Path'].apply(lambda x: re.findall(pattern_path_node, x))"
   ]
  },
  {
   "cell_type": "code",
   "execution_count": null,
   "id": "e3b40874",
   "metadata": {},
   "outputs": [],
   "source": [
    "# Remove the braces and convert the values to integers\n",
    "Bandage_Combined_Query_Path['Extracted_Path'] = Bandage_Combined_Query_Path['Extracted_Path'].apply(lambda x: [int(value) for value in x])\n",
    "\n",
    "Bandage_Combined_Query_Path['Extracted_Path'] = Bandage_Combined_Query_Path['Extracted_Path'].astype(str)\n",
    "Bandage_Combined_Query_Path['Extracted_Path'] = Bandage_Combined_Query_Path['Extracted_Path'].str.replace('[', '').str.replace(']', '')\n"
   ]
  },
  {
   "cell_type": "code",
   "execution_count": null,
   "id": "7b403800",
   "metadata": {},
   "outputs": [],
   "source": [
    "\n",
    "Bandage_Combined_Query_Path.to_csv(\"test4.tsv\",sep=\"\\t\")"
   ]
  },
  {
   "cell_type": "code",
   "execution_count": null,
   "id": "92de8988",
   "metadata": {},
   "outputs": [],
   "source": [
    "Bandage_Combined_Query_Path['Start']=Bandage_Combined_Query_Path['Path'].str.extract(pattern_path_start, expand=False)\n",
    "Bandage_Combined_Query_Path"
   ]
  },
  {
   "cell_type": "code",
   "execution_count": null,
   "id": "5c5c1262",
   "metadata": {
    "scrolled": true
   },
   "outputs": [],
   "source": [
    "# Extract the end position\n",
    "Bandage_Combined_Query_Path['End']= Bandage_Combined_Query_Path[\"Path\"].str.split().str[-1]\n"
   ]
  },
  {
   "cell_type": "code",
   "execution_count": null,
   "id": "67b7c22b",
   "metadata": {},
   "outputs": [],
   "source": [
    "Bandage_Combined_Query_Path['End']=Bandage_Combined_Query_Path['End'].str.strip('()')\n",
    "Bandage_Combined_Query_Path['End']=Bandage_Combined_Query_Path['End'].str.strip('+')\n",
    "Bandage_Combined_Query_Path['End']=Bandage_Combined_Query_Path['End'].str.strip('-')\n",
    "Bandage_Combined_Query_Path['End']=Bandage_Combined_Query_Path['End'].astype(int)\n",
    "Bandage_Combined_Query_Path"
   ]
  },
  {
   "cell_type": "code",
   "execution_count": null,
   "id": "4c129709",
   "metadata": {
    "scrolled": true
   },
   "outputs": [],
   "source": [
    "# Reorder the columns in Bandage_Combined_Query_Path\n",
    "Bandage_Combined_Query_Path=Bandage_Combined_Query_Path[['Query','Path','Start','Extracted_Path','End','Sequence']]\n",
    "\n",
    "# Convert integer columns to strings\n",
    "Bandage_Combined_Query_Path['Path'] = Bandage_Combined_Query_Path['Path'].astype(str)\n",
    "Bandage_Combined_Query_Path['End'] = Bandage_Combined_Query_Path['End'].astype(str)\n",
    "Bandage_Combined_Query_Path['Start'] = Bandage_Combined_Query_Path['Start'].astype(str)\n",
    "Bandage_Combined_Query_Path['Extracted_Path'] = Bandage_Combined_Query_Path['Extracted_Path'].astype(str)\n",
    "Bandage_Combined_Query_Path['Sequence'] = Bandage_Combined_Query_Path['Sequence'].astype(str)\n",
    "\n",
    "# Bandage_Combined1['Query'].value_counts() \n",
    "# Merge the rows that have the same query\n",
    "# group the dataframe by the 'Name' column and aggregate the data for each group\n",
    "merge_Bandage_df = Bandage_Combined_Query_Path.groupby('Query').agg({'Path': ' , '.join, 'Start': ', '.join, 'End': ', '.join, 'Extracted_Path': ','.join, 'Sequence': ' '.join}).reset_index()\n",
    "merge_Bandage_df\n"
   ]
  },
  {
   "cell_type": "code",
   "execution_count": null,
   "id": "83fbb76d",
   "metadata": {},
   "outputs": [],
   "source": [
    "# Add Braces to the values that now have ','\n",
    "def add_braces(value):\n",
    "    if ',' in value:\n",
    "        return '{' + value + '}'\n",
    "    else:\n",
    "        return value\n",
    "#merge_Bandage_df['Path'] = merge_Bandage_df['Path'].apply(add_braces)\n",
    "#merge_Bandage_df['Start'] = merge_Bandage_df['Start'].apply(add_braces)\n",
    "#merge_Bandage_df['End'] = merge_Bandage_df['End'].apply(add_braces)\n",
    "#merge_Bandage_df['Sequence'] = merge_Bandage_df['Sequence'].apply(add_braces)"
   ]
  },
  {
   "cell_type": "code",
   "execution_count": null,
   "id": "ca016dd2",
   "metadata": {},
   "outputs": [],
   "source": [
    "# Store the dataframe containing the Bandage results to a .tsv file\n",
    "merge_Bandage_df.to_csv(\"SequenceBandage.tsv\", sep=\"\\t\")"
   ]
  },
  {
   "cell_type": "code",
   "execution_count": null,
   "id": "d78f084b",
   "metadata": {},
   "outputs": [],
   "source": [
    "#Use merge operation so that we have the sequences for both softwares for successful queries\n",
    "df_QueryAndResultsBandage=pd.merge(df,merge_Bandage_df, on='Query',how=\"outer\")"
   ]
  },
  {
   "cell_type": "markdown",
   "id": "270ff433",
   "metadata": {},
   "source": [
    "## Compile the Queries and the results from Bandage in one dataframe"
   ]
  },
  {
   "cell_type": "code",
   "execution_count": null,
   "id": "7906e177",
   "metadata": {},
   "outputs": [],
   "source": [
    "df_QueryAndResultsBandage"
   ]
  },
  {
   "cell_type": "code",
   "execution_count": null,
   "id": "4f480e66",
   "metadata": {
    "scrolled": true
   },
   "outputs": [],
   "source": [
    "#Print the columns from the dataframe\n",
    "df_QueryAndResultsBandage.columns"
   ]
  },
  {
   "cell_type": "code",
   "execution_count": null,
   "id": "b332bed3",
   "metadata": {},
   "outputs": [],
   "source": [
    "#Rename the columns from the merging of Bandage and Query list\n",
    "df_QueryAndResultsBandage.rename(columns = {'Sequence_x':'Sequence'}, inplace = True)\n",
    "df_QueryAndResultsBandage.rename(columns = {'Sequence_y':'Sequence_Bandage'}, inplace = True)\n",
    "df_QueryAndResultsBandage.rename(columns = {'Length':'Length_Bandage'}, inplace = True)\n",
    "df_QueryAndResultsBandage.rename(columns = {'Path':'Path_Bandage'}, inplace = True)\n",
    "df_QueryAndResultsBandage.rename(columns = {'Start':'Start_Bandage'}, inplace = True)\n",
    "df_QueryAndResultsBandage.rename(columns = {'End':'End_Bandage'}, inplace = True)"
   ]
  },
  {
   "cell_type": "markdown",
   "id": "52afa9cf",
   "metadata": {},
   "source": [
    "## Save the Queries and Results from Bandage in one .tsv file"
   ]
  },
  {
   "cell_type": "code",
   "execution_count": null,
   "id": "d16a7e45",
   "metadata": {},
   "outputs": [],
   "source": [
    "df_QueryAndResultsBandage.to_csv(\"CompiledQueriesBandage.tsv\",sep=\"\\t\")\n",
    "df_QueryAndResultsBandage"
   ]
  },
  {
   "cell_type": "markdown",
   "id": "c48d86ca",
   "metadata": {},
   "source": [
    "## This section is used to compare the results from SPAligner and the actual list of queries."
   ]
  },
  {
   "cell_type": "code",
   "execution_count": null,
   "id": "74abd0a3",
   "metadata": {},
   "outputs": [],
   "source": [
    "#Create a dataframe for SPAligner Combined1\n",
    "SPAligner_Combined1=pd.read_csv('Real_Results/realSPAligner.tsv', sep='\\t',\n",
    "names=[\"Query\",\"Start position of alignment on sequence\",\"End position of alignment on sequence\",\"Start position of alignment on the first edge of the path\",\n",
    "\"End position of alignment on the last edge of the path\",\"Length\",\"Path of alignment\",\"Sequence Length\",\n",
    "\"Sequence\"])\n",
    "SPAligner_Combined1"
   ]
  },
  {
   "cell_type": "code",
   "execution_count": null,
   "id": "8f87707c",
   "metadata": {},
   "outputs": [],
   "source": [
    "#get the columns from SPAligner\n",
    "SPAligner_Combined1.columns"
   ]
  },
  {
   "cell_type": "code",
   "execution_count": null,
   "id": "a8f2d897",
   "metadata": {},
   "outputs": [],
   "source": [
    "#format the Query column from  SPAligner_Combined1 so that the Query column is the same as the one from Bandage\n",
    "pattern = r'\\[.*?\\]'\n",
    "def format_query(x):\n",
    "    return re.sub(pattern,\"\", x).rstrip()\n",
    "    \n",
    "\n",
    "\n",
    "SPAligner_Combined1['Query'] = SPAligner_Combined1['Query'].map(format_query)\n"
   ]
  },
  {
   "cell_type": "code",
   "execution_count": null,
   "id": "fddcd3ba",
   "metadata": {},
   "outputs": [],
   "source": [
    "#Get the query and sequence column from SPAligner_Combined1\n",
    "SPAligner_Combined_Query_Path=SPAligner_Combined1[['Query','Sequence']]\n"
   ]
  },
  {
   "cell_type": "code",
   "execution_count": null,
   "id": "a522b576",
   "metadata": {},
   "outputs": [],
   "source": [
    "#Get the query and sequence column from SPAligner_Combined1\n",
    "SPAligner_Combined_Query_Path=SPAligner_Combined1[['Query','Start position of alignment on the first edge of the path', 'End position of alignment on the last edge of the path', 'Sequence Length',\n",
    "'Path of alignment','Sequence']]\n",
    "SPAligner_Combined_Query_Path"
   ]
  },
  {
   "cell_type": "code",
   "execution_count": null,
   "id": "f6435334",
   "metadata": {},
   "outputs": [],
   "source": [
    "#Rename the columns in SPAligner\n",
    "SPAligner_Combined_Query_Path.rename(columns = {'Start position of alignment on the first edge of the path':'Start_SPAligner'}, inplace = True)\n",
    "SPAligner_Combined_Query_Path.rename(columns = {'End position of alignment on the last edge of the path':'End_SPAligner'}, inplace = True)\n",
    "SPAligner_Combined_Query_Path.rename(columns = {'Sequence Length':\"Length_SPAligner\"}, inplace = True)\n",
    "SPAligner_Combined_Query_Path.rename(columns = {'Path of alignment':\"Path_SPAligner\"}, inplace = True)\n",
    "SPAligner_Combined_Query_Path.rename(columns = {'Sequence':\"Sequence_SPAligner\"}, inplace = True)\n",
    "\n",
    "SPAligner_Combined_Query_Path"
   ]
  },
  {
   "cell_type": "code",
   "execution_count": null,
   "id": "5bf0b5a6",
   "metadata": {},
   "outputs": [],
   "source": [
    "SPAligner_Combined_Query_Path"
   ]
  },
  {
   "cell_type": "markdown",
   "id": "ee228b88",
   "metadata": {},
   "source": [
    "## Compile the Queries and the results from SPAligner in one dataframe"
   ]
  },
  {
   "cell_type": "code",
   "execution_count": null,
   "id": "f84c9fb1",
   "metadata": {},
   "outputs": [],
   "source": [
    "#Use merge operation so that we have the sequences for both softwares for successful queries\n",
    "df_QueryAndResultsSPAligner=pd.merge(df,SPAligner_Combined_Query_Path, on='Query',how='right')\n",
    "\n",
    "df_QueryAndResultsSPAligner"
   ]
  },
  {
   "cell_type": "code",
   "execution_count": null,
   "id": "3c56f9ab",
   "metadata": {},
   "outputs": [],
   "source": [
    "df_QueryAndResultsSPAligner.to_csv(\"TestCompiledQueriesSPAligner.tsv\",sep=\"\\t\")"
   ]
  },
  {
   "cell_type": "code",
   "execution_count": null,
   "id": "5422cab3",
   "metadata": {},
   "outputs": [],
   "source": [
    "#Rename the columns from SPAligner and Results from the Query list\n",
    "df_QueryAndResultsSPAligner.rename(columns = {'Sequence_x':'Sequence'}, inplace = True)\n",
    "df_QueryAndResultsSPAligner.rename(columns = {'Sequence_y':'Sequence_SPAligner'}, inplace = True)"
   ]
  },
  {
   "cell_type": "code",
   "execution_count": null,
   "id": "ec8c1f38",
   "metadata": {
    "scrolled": true
   },
   "outputs": [],
   "source": [
    "#df_QueryAndResultsSPAligner['Start_SPAligner']=df_QueryAndResultsSPAligner['Start_SPAligner']+1\n",
    "\n",
    "#df_QueryAndResultsSPAligner"
   ]
  },
  {
   "cell_type": "code",
   "execution_count": null,
   "id": "b3e81200",
   "metadata": {},
   "outputs": [],
   "source": [
    "df_QueryAndResultsSPAligner.to_csv(\"TestCompiledQueriesSPAligner.tsv\",sep=\"\\t\")"
   ]
  },
  {
   "cell_type": "markdown",
   "id": "fd6f1c42",
   "metadata": {},
   "source": [
    "## This section is used to compare the results from GraphAligner and the actual list of queries."
   ]
  },
  {
   "cell_type": "code",
   "execution_count": null,
   "id": "dba84390",
   "metadata": {},
   "outputs": [],
   "source": [
    "#Create a dataframe for GraphAligner Combined1\n",
    "GraphAligner_Combined1=pd.read_csv('Real_Results/RealGraphAligner.tsv', sep='\\t', names=[\"Query\", \"Query Length\", \"Query Start\", \n",
    "                                        \"Query End\",\"Strand Relative Length\",\"Path Matching\",\"Path Length\",\n",
    "                                         \"Start Position on Path\",\"End Position on Path\",\"Number of residues Matches\",\n",
    "                                         \"Alignment Back Length\",\"Mapping Quality\",\"Column 1\"])\n",
    "GraphAligner_Combined1"
   ]
  },
  {
   "cell_type": "code",
   "execution_count": null,
   "id": "86ef2600",
   "metadata": {},
   "outputs": [],
   "source": [
    "#Format the Query column from  GraphAligner_Combined1 so that the Query column is the same as the one from Bandage\n",
    "pattern = r'\\[.*?\\]'\n",
    "def format_query(x):\n",
    "    return re.sub(pattern,\"\", x).rstrip()\n",
    "    \n",
    "\n",
    "\n",
    "GraphAligner_Combined1['Query'] = GraphAligner_Combined1['Query'].map(format_query)"
   ]
  },
  {
   "cell_type": "code",
   "execution_count": null,
   "id": "479545ff",
   "metadata": {},
   "outputs": [],
   "source": [
    "# Remove < and > from the Path\n",
    "GraphAligner_Combined1['Path Matching'] = GraphAligner_Combined1['Path Matching'].str.replace('>', \" \")\n",
    "GraphAligner_Combined1['Path Matching'] = GraphAligner_Combined1['Path Matching'].str.replace('<', \" \")"
   ]
  },
  {
   "cell_type": "markdown",
   "id": "a328d9af",
   "metadata": {},
   "source": [
    "## This section drops the rows with coverages < 50 from GraphAligner_Combined1"
   ]
  },
  {
   "cell_type": "code",
   "execution_count": null,
   "id": "ea098457",
   "metadata": {},
   "outputs": [],
   "source": [
    "# Calculate the coverage for GraphAligner\n",
    "GraphAligner_Combined1[\"Coverage\"]=GraphAligner_Combined1[\"Alignment Back Length\"]/GraphAligner_Combined1[\"Query Length\"]*100"
   ]
  },
  {
   "cell_type": "code",
   "execution_count": null,
   "id": "3fcc6310",
   "metadata": {},
   "outputs": [],
   "source": [
    "GraphAligner_Combined1"
   ]
  },
  {
   "cell_type": "code",
   "execution_count": null,
   "id": "03f6f349",
   "metadata": {},
   "outputs": [],
   "source": [
    "#Drop the coverages that are < 50 from GraphAligner \n",
    "GraphAligner_Combined1.drop(GraphAligner_Combined1[GraphAligner_Combined1['Coverage'] < 50].index, inplace = True)\n"
   ]
  },
  {
   "cell_type": "code",
   "execution_count": null,
   "id": "24e89b36",
   "metadata": {
    "scrolled": false
   },
   "outputs": [],
   "source": [
    "GraphAligner_Combined1['Start Position on Path']=GraphAligner_Combined1['Start Position on Path']+1\n",
    "GraphAligner_Combined1['End Position on Path']=GraphAligner_Combined1['End Position on Path']\n",
    "GraphAligner_Combined1"
   ]
  },
  {
   "cell_type": "code",
   "execution_count": null,
   "id": "c45f1fa2",
   "metadata": {},
   "outputs": [],
   "source": [
    "#Concatenate the values from Path_Matching\n",
    "GraphAligner_Combined1['Path Matching'] = GraphAligner_Combined1['Path Matching'].apply(lambda x: ', '.join(x.split()))\n"
   ]
  },
  {
   "cell_type": "code",
   "execution_count": null,
   "id": "9d258ef6",
   "metadata": {
    "scrolled": false
   },
   "outputs": [],
   "source": [
    "#Get the specific columns from GraphAligner\n",
    "GraphAligner_Combined_Query_Path=GraphAligner_Combined1[['Query','Path Matching', 'Start Position on Path', \n",
    "'End Position on Path']]\n",
    "# Convert the integer to string\n",
    "GraphAligner_Combined_Query_Path['Query']=GraphAligner_Combined_Query_Path['Query'].astype(str)\n",
    "GraphAligner_Combined_Query_Path['Path Matching']=GraphAligner_Combined_Query_Path['Path Matching'].astype(str)\n",
    "GraphAligner_Combined_Query_Path['Start Position on Path']=GraphAligner_Combined_Query_Path['Start Position on Path'].astype(str)\n",
    "GraphAligner_Combined_Query_Path['End Position on Path']=GraphAligner_Combined_Query_Path['End Position on Path'].astype(str)\n",
    "\n"
   ]
  },
  {
   "cell_type": "code",
   "execution_count": null,
   "id": "d36eb187",
   "metadata": {
    "scrolled": true
   },
   "outputs": [],
   "source": [
    "#Use merge operation so that we have the sequences for both softwares for successful queries\n",
    "merged_df_Graph = GraphAligner_Combined_Query_Path.groupby('Query').agg({'Path Matching':' '.join, 'Start Position on Path': ', '.join,'End Position on Path': ', '.join}).reset_index()\n",
    "merged_df_Graph"
   ]
  },
  {
   "cell_type": "code",
   "execution_count": null,
   "id": "2ec8ca2f",
   "metadata": {},
   "outputs": [],
   "source": [
    "merged_df_Graph.rename(columns = {'Path Matching':'Path_GraphAligner'}, inplace = True)\n",
    "merged_df_Graph.rename(columns = {'Start Position on Path':'Start_GraphAligner'}, inplace = True)\n",
    "merged_df_Graph.rename(columns = {'End Position on Path':'End_GraphAligner'}, inplace = True)"
   ]
  },
  {
   "cell_type": "code",
   "execution_count": null,
   "id": "5294ca76",
   "metadata": {},
   "outputs": [],
   "source": [
    "merged_df_Graph"
   ]
  },
  {
   "cell_type": "markdown",
   "id": "dade59df",
   "metadata": {},
   "source": [
    "## Compile the Queries and the results from GraphAligner in one dataframe"
   ]
  },
  {
   "cell_type": "code",
   "execution_count": null,
   "id": "94477e7b",
   "metadata": {},
   "outputs": [],
   "source": [
    "#Use merge operation so that we have the sequences for both softwares for successful queries\n",
    "df_QueryAndResultsGraphAligner=pd.merge(df,merged_df_Graph, on='Query',how=\"left\")\n",
    "df_QueryAndResultsGraphAligner"
   ]
  },
  {
   "cell_type": "markdown",
   "id": "9300f5f2",
   "metadata": {},
   "source": [
    "## Compile all the results in one master Dataframe"
   ]
  },
  {
   "cell_type": "code",
   "execution_count": null,
   "id": "0a39ba88",
   "metadata": {
    "scrolled": false
   },
   "outputs": [],
   "source": [
    "merged_df_1 = pd.merge(df_QueryAndResultsBandage, df_QueryAndResultsSPAligner, on=['Query', 'Sequence'], how='outer')\n",
    "merged_df_master = pd.merge(merged_df_1, df_QueryAndResultsGraphAligner, on=['Query', 'Sequence'], how='outer')\n",
    "#merged_df_master['Start_SPAligner']=merged_df_master['Start_SPAligner'].astype(float).astype(int)\n",
    "merged_df_master"
   ]
  },
  {
   "cell_type": "code",
   "execution_count": null,
   "id": "74a1a94d",
   "metadata": {
    "scrolled": true
   },
   "outputs": [],
   "source": [
    "#Drop some columns\n",
    "\n",
    "merged_df_master.drop(['Sequence_y', 'Length_x','Length_y','Sequence'], axis=1)\n",
    "\n",
    "#Rename Sequence_x\n",
    "merged_df_master.rename(columns = {'Sequence_x':'Sequence_Query'}, inplace = True)\n",
    "\n"
   ]
  },
  {
   "cell_type": "code",
   "execution_count": null,
   "id": "67baeef7",
   "metadata": {},
   "outputs": [],
   "source": [
    "def compare_paths(Start_Bandage, End_Bandage,Start_GraphAligner,End_GraphAligner):\n",
    "    bandage_path_start = Start_Bandage.split(',')\n",
    "    bandage_path_end = End_Bandage.split(',')\n",
    "    #str(Start_GraphAligner) in str(bandage_path_start) and  str(End_GraphAligner) in  str(bandage_path_end):\n",
    "    \n",
    "    \n",
    "    if set(str(bandage_path_start)) == set([str(Start_GraphAligner)]) and set(str(bandage_path_end) )== set([str(End_GraphAligner)]):\n",
    "        return 'Similar'\n",
    "    elif str(Start_GraphAligner) in str(bandage_path_start) and  str(End_GraphAligner) in  str(bandage_path_end):\n",
    "        return 'Full'\n",
    "    else:\n",
    "        return 'Different'"
   ]
  },
  {
   "cell_type": "code",
   "execution_count": null,
   "id": "9f3cb2d3",
   "metadata": {},
   "outputs": [],
   "source": [
    "merged_df_master['BandageVSGraphAligner'] = merged_df_master.apply(lambda row: compare_paths(row['Start_Bandage'], row['End_Bandage'],row['Start_GraphAligner'],row['End_GraphAligner']), axis=1)\n",
    "\n",
    "merged_df_master"
   ]
  },
  {
   "cell_type": "code",
   "execution_count": null,
   "id": "aebf0e86",
   "metadata": {},
   "outputs": [],
   "source": [
    "#Compare the Start, and end path from Bandage and SPAligner\n",
    "merged_df_master['Start_SPAligner']=merged_df_master['Start_SPAligner'].astype(str)\n",
    "merged_df_master['End_SPAligner']=merged_df_master['End_SPAligner'].astype(str)\n",
    "merged_df_master['BandageVSSPAligner']=(merged_df_master['Start_Bandage'] == merged_df_master['Start_SPAligner']) & (merged_df_master['End_Bandage'] == merged_df_master['End_SPAligner'])\n",
    "\n",
    "\n",
    "\n",
    "merged_df_master.dtypes"
   ]
  },
  {
   "cell_type": "code",
   "execution_count": null,
   "id": "c2fdffa0",
   "metadata": {},
   "outputs": [],
   "source": [
    "#Compare the Start, and end path from GraphAligner and SPAligner\n",
    "merged_df_master['SPAlignerVSGraphAligner']=(merged_df_master['Start_SPAligner'] == merged_df_master['Start_GraphAligner']) & (merged_df_master['End_SPAligner'] == merged_df_master['End_GraphAligner'])"
   ]
  },
  {
   "cell_type": "code",
   "execution_count": null,
   "id": "a79085ef",
   "metadata": {},
   "outputs": [],
   "source": [
    "#Drop some columns\n",
    "\n",
    "merged_df_master=merged_df_master.drop(['Sequence_y', 'Length_x','Length_y','Sequence'], axis=1)"
   ]
  },
  {
   "cell_type": "markdown",
   "id": "75eab020",
   "metadata": {},
   "source": [
    "## Save the Queries and  all the Results  in one .tsv file\n"
   ]
  },
  {
   "cell_type": "code",
   "execution_count": null,
   "id": "b7c88b19",
   "metadata": {},
   "outputs": [],
   "source": [
    "merged_df_master.to_csv(\"Real_Results/QueriesAndResultsMasterList.tsv\",sep='\\t')"
   ]
  },
  {
   "cell_type": "markdown",
   "id": "fe719c21",
   "metadata": {},
   "source": [
    "## This section"
   ]
  },
  {
   "cell_type": "markdown",
   "id": "64e3a96f",
   "metadata": {},
   "source": [
    "merged_df_master['Sequence_Bandage']=merged_df_master['Sequence_Bandage'].astype(str)"
   ]
  },
  {
   "cell_type": "code",
   "execution_count": null,
   "id": "46e5b3f4",
   "metadata": {},
   "outputs": [],
   "source": [
    "def extract_closest_string(df):\n",
    "    df['Extracted string'] = ''\n",
    "\n",
    "    for index, row in df.iterrows():\n",
    "        sequences = row['Sequence_Bandage']\n",
    "        query = row['Sequence']\n",
    "        closest_distance = float('inf')\n",
    "        closest_string = ''\n",
    "\n",
    "        if sequences:\n",
    "            sequences = sequences.split(' ')\n",
    "            for sequence in sequences:\n",
    "                distance = Levenshtein.distance(sequence, query)\n",
    "                if Levenshtein.distance(sequence, query) < closest_distance:\n",
    "                    closest_distance = distance\n",
    "                    closest_string = sequence\n",
    "\n",
    "        df.at[index, 'Extracted string'] = closest_string\n",
    "\n",
    "\n",
    "    return df"
   ]
  },
  {
   "cell_type": "markdown",
   "id": "a3c75414",
   "metadata": {},
   "source": [
    "## This section saves the Nodes and Sequences from the gfa file"
   ]
  },
  {
   "cell_type": "code",
   "execution_count": null,
   "id": "8c464208",
   "metadata": {},
   "outputs": [],
   "source": [
    "import gfapy\n",
    "\n",
    "# Open the GFA file\n",
    "file_path = \"graph1.gfa\"\n",
    "gfa = gfapy.Gfa.from_file(file_path)\n",
    "\n",
    "num_segments = len(gfa.segments)"
   ]
  },
  {
   "cell_type": "code",
   "execution_count": null,
   "id": "f657054a",
   "metadata": {},
   "outputs": [],
   "source": [
    "data_graph = []"
   ]
  },
  {
   "cell_type": "code",
   "execution_count": null,
   "id": "6518ae82",
   "metadata": {},
   "outputs": [],
   "source": [
    "# Store the name and sequence for each node from the graph\n",
    "for segment in gfa.segments:\n",
    "    data_graph.append({\"Name\": segment.name, \"Sequence\": segment.sequence})\n",
    "\n",
    "# Convert the list to a DataFrame\n",
    "df_graph = pd.DataFrame(data_graph)\n",
    "\n",
    "# Print the DataFrame\n",
    "print(df_graph)"
   ]
  },
  {
   "cell_type": "code",
   "execution_count": null,
   "id": "055552a0",
   "metadata": {},
   "outputs": [],
   "source": [
    "#Count the number of duplicates\n",
    "#len(df_graph['Name'])-len(df_graph['Name'].drop_duplicates())"
   ]
  },
  {
   "cell_type": "code",
   "execution_count": null,
   "id": "26405629",
   "metadata": {},
   "outputs": [],
   "source": [
    "num_segments"
   ]
  },
  {
   "cell_type": "code",
   "execution_count": null,
   "id": "b832a090",
   "metadata": {},
   "outputs": [],
   "source": [
    "#Save only one copy of each row to the dataframe\n",
    "df_graph=df_graph.drop_duplicates()"
   ]
  },
  {
   "cell_type": "code",
   "execution_count": null,
   "id": "bb6c1751",
   "metadata": {},
   "outputs": [],
   "source": [
    "df_graph"
   ]
  },
  {
   "cell_type": "code",
   "execution_count": null,
   "id": "3548d34b",
   "metadata": {},
   "outputs": [],
   "source": [
    "df_graph['Name']=df_graph['Name'].astype(str)\n"
   ]
  },
  {
   "cell_type": "markdown",
   "id": "6d2eab45",
   "metadata": {},
   "source": []
  },
  {
   "cell_type": "markdown",
   "id": "e5dfd46a",
   "metadata": {},
   "source": [
    "## Get the sequences unique to GraphAligner\n",
    "## Get the dataframe containing the path from GraphAligner\n"
   ]
  },
  {
   "cell_type": "code",
   "execution_count": null,
   "id": "6afbef26",
   "metadata": {},
   "outputs": [],
   "source": [
    "df_GraphAligner_Paths= pd.read_csv('GraphAlignerNotEqual.tsv', sep='\\t')\n",
    "#GraphAlignerNotEqual.tsv is from another script:GraphAlignerBandageScript.ipynb"
   ]
  },
  {
   "cell_type": "code",
   "execution_count": null,
   "id": "a4a1d094",
   "metadata": {},
   "outputs": [],
   "source": [
    "df_GraphAligner_Paths"
   ]
  },
  {
   "cell_type": "code",
   "execution_count": null,
   "id": "f9d6154a",
   "metadata": {},
   "outputs": [],
   "source": [
    "df_GraphAligner_Paths\n",
    "df_GraphAligner_Paths.sort_index(inplace=True)\n",
    "df_GraphAligner_Paths['Path Matching']=df_GraphAligner_Paths['Path Matching'].astype(str)"
   ]
  },
  {
   "cell_type": "code",
   "execution_count": null,
   "id": "8c90dac8",
   "metadata": {},
   "outputs": [],
   "source": [
    "# Function to process the Path values\n",
    "def process_path(path):\n",
    "    path = path.replace('<', ' ').replace('>', ' ')\n",
    "    path = ' '.join(path.split('<'))\n",
    "    return path"
   ]
  },
  {
   "cell_type": "code",
   "execution_count": null,
   "id": "17b0e1ec",
   "metadata": {},
   "outputs": [],
   "source": [
    "df_GraphAligner_Paths['Path Matching']=df_GraphAligner_Paths['Path Matching'].apply(process_path).str.strip()\n"
   ]
  },
  {
   "cell_type": "code",
   "execution_count": null,
   "id": "4f69b060",
   "metadata": {},
   "outputs": [],
   "source": [
    "df_GraphAligner_Paths\n",
    "# Create a new column 'Combined_Sequence' that concatenates sequences if Path has two values\n"
   ]
  },
  {
   "cell_type": "code",
   "execution_count": null,
   "id": "ec5d9561",
   "metadata": {},
   "outputs": [],
   "source": [
    "df_GraphAligner_Paths[['Path1', 'Path2']] = df_GraphAligner_Paths['Path Matching'].str.split(' ', expand=True)"
   ]
  },
  {
   "cell_type": "code",
   "execution_count": null,
   "id": "6c6f8663",
   "metadata": {},
   "outputs": [],
   "source": [
    "df_GraphAligner_Paths"
   ]
  },
  {
   "cell_type": "code",
   "execution_count": null,
   "id": "bd6fe7d6",
   "metadata": {},
   "outputs": [],
   "source": [
    "# Get the rows where Path 2 is not None\n",
    "rows_not_none = df_GraphAligner_Paths[df_GraphAligner_Paths['Path2'].notna()]\n",
    "\n",
    "# Print the resulting dataframe\n",
    "rows_not_none"
   ]
  },
  {
   "cell_type": "code",
   "execution_count": null,
   "id": "a9126570",
   "metadata": {},
   "outputs": [],
   "source": [
    "#Get the sequence for Path 1 and Path 2\n",
    "# Merge df1 and df2 based on matching values in Column1 and Name\n",
    "\n",
    "merged_df= pd.merge(df_GraphAligner_Paths, df_graph, left_on='Path1', right_on='Name')\n",
    "merged_df = pd.merge(merged_df, df_graph, left_on='Path2', right_on='Name')\n",
    "\n",
    "# Concatenate the sequences\n",
    "merged_df"
   ]
  },
  {
   "cell_type": "code",
   "execution_count": null,
   "id": "704c6a0d",
   "metadata": {},
   "outputs": [],
   "source": [
    "extracted_sequences_Path1_df = extract_sequences_Path1(merged_df_Path1)\n",
    "extracted_sequences_Path1_df\n",
    "#Save the dataframe to a pdf\n",
    "extracted_sequences_Path1_df.to_csv(\"Path1_TestSequences.tsv\", sep=\"\\t\")"
   ]
  },
  {
   "cell_type": "code",
   "execution_count": null,
   "id": "07a30bf0",
   "metadata": {},
   "outputs": [],
   "source": []
  }
 ],
 "metadata": {
  "kernelspec": {
   "display_name": "Python 3 (ipykernel)",
   "language": "python",
   "name": "python3"
  },
  "language_info": {
   "codemirror_mode": {
    "name": "ipython",
    "version": 3
   },
   "file_extension": ".py",
   "mimetype": "text/x-python",
   "name": "python",
   "nbconvert_exporter": "python",
   "pygments_lexer": "ipython3",
   "version": "3.10.9"
  }
 },
 "nbformat": 4,
 "nbformat_minor": 5
}
